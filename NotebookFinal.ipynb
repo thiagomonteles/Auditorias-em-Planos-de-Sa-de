{
  "cells": [
    {
      "cell_type": "markdown",
      "metadata": {
        "id": "gd2BmmzO0sUY"
      },
      "source": [
        "#Trabalho de Mineração de dados e Machine Learning\n"
      ]
    },
    {
      "cell_type": "markdown",
      "source": [
        "## Importando bibliotecas"
      ],
      "metadata": {
        "id": "rijcSa6JUikb"
      }
    },
    {
      "cell_type": "code",
      "source": [
        "!pip install category_encoders"
      ],
      "metadata": {
        "id": "WXmirwV1h4X2"
      },
      "execution_count": null,
      "outputs": []
    },
    {
      "cell_type": "code",
      "source": [
        "# Descomente essa parte caso queira usar a biblioteca de comparação de modelo \n",
        "#!pip install pycaret\n",
        "#from pycaret.classification import *"
      ],
      "metadata": {
        "id": "Bk7KUcBDSwEh"
      },
      "execution_count": null,
      "outputs": []
    },
    {
      "cell_type": "code",
      "execution_count": null,
      "metadata": {
        "id": "S41ULCjIC8x_",
        "outputId": "b3cb049a-a398-475f-bb6f-5b9f8a140b13",
        "colab": {
          "base_uri": "https://localhost:8080/"
        }
      },
      "outputs": [
        {
          "output_type": "stream",
          "name": "stderr",
          "text": [
            "/usr/local/lib/python3.7/dist-packages/statsmodels/tools/_testing.py:19: FutureWarning: pandas.util.testing is deprecated. Use the functions in the public API at pandas.testing instead.\n",
            "  import pandas.util.testing as tm\n"
          ]
        }
      ],
      "source": [
        "import pandas as pd\n",
        "import numpy as np\n",
        "import seaborn as sns\n",
        "import matplotlib.pyplot as plt\n",
        "from matplotlib import pyplot\n",
        "import math\n",
        "from scipy import stats\n",
        "\n",
        "\n",
        "from sklearn.model_selection import train_test_split\n",
        "from sklearn.preprocessing import LabelEncoder\n",
        "\n",
        "from sklearn import svm\n",
        "from sklearn.neighbors import KNeighborsClassifier\n",
        "from sklearn.model_selection import GridSearchCV,cross_val_predict\n",
        "from sklearn.model_selection import RandomizedSearchCV\n",
        "from sklearn.naive_bayes import GaussianNB\n",
        "from sklearn.tree import DecisionTreeClassifier\n",
        "from sklearn.ensemble import RandomForestRegressor\n",
        "from sklearn.ensemble import RandomForestClassifier,AdaBoostClassifier,GradientBoostingClassifier,ExtraTreesClassifier\n",
        "from sklearn.neural_network import MLPClassifier\n",
        "from sklearn.metrics import confusion_matrix, roc_auc_score, f1_score\n",
        "from sklearn import tree\n",
        "import graphviz \n",
        "\n",
        "from sklearn.metrics import classification_report\n",
        "from imblearn.over_sampling  import RandomOverSampler \n",
        "from imblearn.under_sampling  import RandomUnderSampler \n",
        "from sklearn.model_selection import cross_val_score\n",
        "\n",
        "\n",
        "import category_encoders as ce"
      ]
    },
    {
      "cell_type": "code",
      "execution_count": null,
      "metadata": {
        "id": "F4G9z6qOGR6L"
      },
      "outputs": [],
      "source": [
        "pd.set_option('max_columns', None)"
      ]
    },
    {
      "cell_type": "markdown",
      "metadata": {
        "id": "hgLF6VloFQFn"
      },
      "source": [
        "## Importação dos dados"
      ]
    },
    {
      "cell_type": "code",
      "execution_count": null,
      "metadata": {
        "id": "t0BWtX4BDsw7",
        "outputId": "bc94639d-14c2-48cb-f303-dca5a1d377c4",
        "colab": {
          "base_uri": "https://localhost:8080/",
          "height": 312
        }
      },
      "outputs": [
        {
          "output_type": "error",
          "ename": "FileNotFoundError",
          "evalue": "ignored",
          "traceback": [
            "\u001b[0;31m---------------------------------------------------------------------------\u001b[0m",
            "\u001b[0;31mFileNotFoundError\u001b[0m                         Traceback (most recent call last)",
            "\u001b[0;32m<ipython-input-5-be5594721125>\u001b[0m in \u001b[0;36m<module>\u001b[0;34m()\u001b[0m\n\u001b[0;32m----> 1\u001b[0;31m \u001b[0mdados_original\u001b[0m \u001b[0;34m=\u001b[0m \u001b[0mpd\u001b[0m\u001b[0;34m.\u001b[0m\u001b[0mread_csv\u001b[0m\u001b[0;34m(\u001b[0m\u001b[0;34m'classificacao_binaria_train.csv'\u001b[0m\u001b[0;34m,\u001b[0m\u001b[0msep\u001b[0m\u001b[0;34m=\u001b[0m\u001b[0;34m';'\u001b[0m\u001b[0;34m,\u001b[0m\u001b[0mencoding\u001b[0m\u001b[0;34m=\u001b[0m\u001b[0;34m'utf-8'\u001b[0m\u001b[0;34m)\u001b[0m\u001b[0;34m\u001b[0m\u001b[0;34m\u001b[0m\u001b[0m\n\u001b[0m",
            "\u001b[0;32m/usr/local/lib/python3.7/dist-packages/pandas/util/_decorators.py\u001b[0m in \u001b[0;36mwrapper\u001b[0;34m(*args, **kwargs)\u001b[0m\n\u001b[1;32m    309\u001b[0m                     \u001b[0mstacklevel\u001b[0m\u001b[0;34m=\u001b[0m\u001b[0mstacklevel\u001b[0m\u001b[0;34m,\u001b[0m\u001b[0;34m\u001b[0m\u001b[0;34m\u001b[0m\u001b[0m\n\u001b[1;32m    310\u001b[0m                 )\n\u001b[0;32m--> 311\u001b[0;31m             \u001b[0;32mreturn\u001b[0m \u001b[0mfunc\u001b[0m\u001b[0;34m(\u001b[0m\u001b[0;34m*\u001b[0m\u001b[0margs\u001b[0m\u001b[0;34m,\u001b[0m \u001b[0;34m**\u001b[0m\u001b[0mkwargs\u001b[0m\u001b[0;34m)\u001b[0m\u001b[0;34m\u001b[0m\u001b[0;34m\u001b[0m\u001b[0m\n\u001b[0m\u001b[1;32m    312\u001b[0m \u001b[0;34m\u001b[0m\u001b[0m\n\u001b[1;32m    313\u001b[0m         \u001b[0;32mreturn\u001b[0m \u001b[0mwrapper\u001b[0m\u001b[0;34m\u001b[0m\u001b[0;34m\u001b[0m\u001b[0m\n",
            "\u001b[0;32m/usr/local/lib/python3.7/dist-packages/pandas/io/parsers/readers.py\u001b[0m in \u001b[0;36mread_csv\u001b[0;34m(filepath_or_buffer, sep, delimiter, header, names, index_col, usecols, squeeze, prefix, mangle_dupe_cols, dtype, engine, converters, true_values, false_values, skipinitialspace, skiprows, skipfooter, nrows, na_values, keep_default_na, na_filter, verbose, skip_blank_lines, parse_dates, infer_datetime_format, keep_date_col, date_parser, dayfirst, cache_dates, iterator, chunksize, compression, thousands, decimal, lineterminator, quotechar, quoting, doublequote, escapechar, comment, encoding, encoding_errors, dialect, error_bad_lines, warn_bad_lines, on_bad_lines, delim_whitespace, low_memory, memory_map, float_precision, storage_options)\u001b[0m\n\u001b[1;32m    584\u001b[0m     \u001b[0mkwds\u001b[0m\u001b[0;34m.\u001b[0m\u001b[0mupdate\u001b[0m\u001b[0;34m(\u001b[0m\u001b[0mkwds_defaults\u001b[0m\u001b[0;34m)\u001b[0m\u001b[0;34m\u001b[0m\u001b[0;34m\u001b[0m\u001b[0m\n\u001b[1;32m    585\u001b[0m \u001b[0;34m\u001b[0m\u001b[0m\n\u001b[0;32m--> 586\u001b[0;31m     \u001b[0;32mreturn\u001b[0m \u001b[0m_read\u001b[0m\u001b[0;34m(\u001b[0m\u001b[0mfilepath_or_buffer\u001b[0m\u001b[0;34m,\u001b[0m \u001b[0mkwds\u001b[0m\u001b[0;34m)\u001b[0m\u001b[0;34m\u001b[0m\u001b[0;34m\u001b[0m\u001b[0m\n\u001b[0m\u001b[1;32m    587\u001b[0m \u001b[0;34m\u001b[0m\u001b[0m\n\u001b[1;32m    588\u001b[0m \u001b[0;34m\u001b[0m\u001b[0m\n",
            "\u001b[0;32m/usr/local/lib/python3.7/dist-packages/pandas/io/parsers/readers.py\u001b[0m in \u001b[0;36m_read\u001b[0;34m(filepath_or_buffer, kwds)\u001b[0m\n\u001b[1;32m    480\u001b[0m \u001b[0;34m\u001b[0m\u001b[0m\n\u001b[1;32m    481\u001b[0m     \u001b[0;31m# Create the parser.\u001b[0m\u001b[0;34m\u001b[0m\u001b[0;34m\u001b[0m\u001b[0;34m\u001b[0m\u001b[0m\n\u001b[0;32m--> 482\u001b[0;31m     \u001b[0mparser\u001b[0m \u001b[0;34m=\u001b[0m \u001b[0mTextFileReader\u001b[0m\u001b[0;34m(\u001b[0m\u001b[0mfilepath_or_buffer\u001b[0m\u001b[0;34m,\u001b[0m \u001b[0;34m**\u001b[0m\u001b[0mkwds\u001b[0m\u001b[0;34m)\u001b[0m\u001b[0;34m\u001b[0m\u001b[0;34m\u001b[0m\u001b[0m\n\u001b[0m\u001b[1;32m    483\u001b[0m \u001b[0;34m\u001b[0m\u001b[0m\n\u001b[1;32m    484\u001b[0m     \u001b[0;32mif\u001b[0m \u001b[0mchunksize\u001b[0m \u001b[0;32mor\u001b[0m \u001b[0miterator\u001b[0m\u001b[0;34m:\u001b[0m\u001b[0;34m\u001b[0m\u001b[0;34m\u001b[0m\u001b[0m\n",
            "\u001b[0;32m/usr/local/lib/python3.7/dist-packages/pandas/io/parsers/readers.py\u001b[0m in \u001b[0;36m__init__\u001b[0;34m(self, f, engine, **kwds)\u001b[0m\n\u001b[1;32m    809\u001b[0m             \u001b[0mself\u001b[0m\u001b[0;34m.\u001b[0m\u001b[0moptions\u001b[0m\u001b[0;34m[\u001b[0m\u001b[0;34m\"has_index_names\"\u001b[0m\u001b[0;34m]\u001b[0m \u001b[0;34m=\u001b[0m \u001b[0mkwds\u001b[0m\u001b[0;34m[\u001b[0m\u001b[0;34m\"has_index_names\"\u001b[0m\u001b[0;34m]\u001b[0m\u001b[0;34m\u001b[0m\u001b[0;34m\u001b[0m\u001b[0m\n\u001b[1;32m    810\u001b[0m \u001b[0;34m\u001b[0m\u001b[0m\n\u001b[0;32m--> 811\u001b[0;31m         \u001b[0mself\u001b[0m\u001b[0;34m.\u001b[0m\u001b[0m_engine\u001b[0m \u001b[0;34m=\u001b[0m \u001b[0mself\u001b[0m\u001b[0;34m.\u001b[0m\u001b[0m_make_engine\u001b[0m\u001b[0;34m(\u001b[0m\u001b[0mself\u001b[0m\u001b[0;34m.\u001b[0m\u001b[0mengine\u001b[0m\u001b[0;34m)\u001b[0m\u001b[0;34m\u001b[0m\u001b[0;34m\u001b[0m\u001b[0m\n\u001b[0m\u001b[1;32m    812\u001b[0m \u001b[0;34m\u001b[0m\u001b[0m\n\u001b[1;32m    813\u001b[0m     \u001b[0;32mdef\u001b[0m \u001b[0mclose\u001b[0m\u001b[0;34m(\u001b[0m\u001b[0mself\u001b[0m\u001b[0;34m)\u001b[0m\u001b[0;34m:\u001b[0m\u001b[0;34m\u001b[0m\u001b[0;34m\u001b[0m\u001b[0m\n",
            "\u001b[0;32m/usr/local/lib/python3.7/dist-packages/pandas/io/parsers/readers.py\u001b[0m in \u001b[0;36m_make_engine\u001b[0;34m(self, engine)\u001b[0m\n\u001b[1;32m   1038\u001b[0m             )\n\u001b[1;32m   1039\u001b[0m         \u001b[0;31m# error: Too many arguments for \"ParserBase\"\u001b[0m\u001b[0;34m\u001b[0m\u001b[0;34m\u001b[0m\u001b[0;34m\u001b[0m\u001b[0m\n\u001b[0;32m-> 1040\u001b[0;31m         \u001b[0;32mreturn\u001b[0m \u001b[0mmapping\u001b[0m\u001b[0;34m[\u001b[0m\u001b[0mengine\u001b[0m\u001b[0;34m]\u001b[0m\u001b[0;34m(\u001b[0m\u001b[0mself\u001b[0m\u001b[0;34m.\u001b[0m\u001b[0mf\u001b[0m\u001b[0;34m,\u001b[0m \u001b[0;34m**\u001b[0m\u001b[0mself\u001b[0m\u001b[0;34m.\u001b[0m\u001b[0moptions\u001b[0m\u001b[0;34m)\u001b[0m  \u001b[0;31m# type: ignore[call-arg]\u001b[0m\u001b[0;34m\u001b[0m\u001b[0;34m\u001b[0m\u001b[0m\n\u001b[0m\u001b[1;32m   1041\u001b[0m \u001b[0;34m\u001b[0m\u001b[0m\n\u001b[1;32m   1042\u001b[0m     \u001b[0;32mdef\u001b[0m \u001b[0m_failover_to_python\u001b[0m\u001b[0;34m(\u001b[0m\u001b[0mself\u001b[0m\u001b[0;34m)\u001b[0m\u001b[0;34m:\u001b[0m\u001b[0;34m\u001b[0m\u001b[0;34m\u001b[0m\u001b[0m\n",
            "\u001b[0;32m/usr/local/lib/python3.7/dist-packages/pandas/io/parsers/c_parser_wrapper.py\u001b[0m in \u001b[0;36m__init__\u001b[0;34m(self, src, **kwds)\u001b[0m\n\u001b[1;32m     49\u001b[0m \u001b[0;34m\u001b[0m\u001b[0m\n\u001b[1;32m     50\u001b[0m         \u001b[0;31m# open handles\u001b[0m\u001b[0;34m\u001b[0m\u001b[0;34m\u001b[0m\u001b[0;34m\u001b[0m\u001b[0m\n\u001b[0;32m---> 51\u001b[0;31m         \u001b[0mself\u001b[0m\u001b[0;34m.\u001b[0m\u001b[0m_open_handles\u001b[0m\u001b[0;34m(\u001b[0m\u001b[0msrc\u001b[0m\u001b[0;34m,\u001b[0m \u001b[0mkwds\u001b[0m\u001b[0;34m)\u001b[0m\u001b[0;34m\u001b[0m\u001b[0;34m\u001b[0m\u001b[0m\n\u001b[0m\u001b[1;32m     52\u001b[0m         \u001b[0;32massert\u001b[0m \u001b[0mself\u001b[0m\u001b[0;34m.\u001b[0m\u001b[0mhandles\u001b[0m \u001b[0;32mis\u001b[0m \u001b[0;32mnot\u001b[0m \u001b[0;32mNone\u001b[0m\u001b[0;34m\u001b[0m\u001b[0;34m\u001b[0m\u001b[0m\n\u001b[1;32m     53\u001b[0m \u001b[0;34m\u001b[0m\u001b[0m\n",
            "\u001b[0;32m/usr/local/lib/python3.7/dist-packages/pandas/io/parsers/base_parser.py\u001b[0m in \u001b[0;36m_open_handles\u001b[0;34m(self, src, kwds)\u001b[0m\n\u001b[1;32m    227\u001b[0m             \u001b[0mmemory_map\u001b[0m\u001b[0;34m=\u001b[0m\u001b[0mkwds\u001b[0m\u001b[0;34m.\u001b[0m\u001b[0mget\u001b[0m\u001b[0;34m(\u001b[0m\u001b[0;34m\"memory_map\"\u001b[0m\u001b[0;34m,\u001b[0m \u001b[0;32mFalse\u001b[0m\u001b[0;34m)\u001b[0m\u001b[0;34m,\u001b[0m\u001b[0;34m\u001b[0m\u001b[0;34m\u001b[0m\u001b[0m\n\u001b[1;32m    228\u001b[0m             \u001b[0mstorage_options\u001b[0m\u001b[0;34m=\u001b[0m\u001b[0mkwds\u001b[0m\u001b[0;34m.\u001b[0m\u001b[0mget\u001b[0m\u001b[0;34m(\u001b[0m\u001b[0;34m\"storage_options\"\u001b[0m\u001b[0;34m,\u001b[0m \u001b[0;32mNone\u001b[0m\u001b[0;34m)\u001b[0m\u001b[0;34m,\u001b[0m\u001b[0;34m\u001b[0m\u001b[0;34m\u001b[0m\u001b[0m\n\u001b[0;32m--> 229\u001b[0;31m             \u001b[0merrors\u001b[0m\u001b[0;34m=\u001b[0m\u001b[0mkwds\u001b[0m\u001b[0;34m.\u001b[0m\u001b[0mget\u001b[0m\u001b[0;34m(\u001b[0m\u001b[0;34m\"encoding_errors\"\u001b[0m\u001b[0;34m,\u001b[0m \u001b[0;34m\"strict\"\u001b[0m\u001b[0;34m)\u001b[0m\u001b[0;34m,\u001b[0m\u001b[0;34m\u001b[0m\u001b[0;34m\u001b[0m\u001b[0m\n\u001b[0m\u001b[1;32m    230\u001b[0m         )\n\u001b[1;32m    231\u001b[0m \u001b[0;34m\u001b[0m\u001b[0m\n",
            "\u001b[0;32m/usr/local/lib/python3.7/dist-packages/pandas/io/common.py\u001b[0m in \u001b[0;36mget_handle\u001b[0;34m(path_or_buf, mode, encoding, compression, memory_map, is_text, errors, storage_options)\u001b[0m\n\u001b[1;32m    705\u001b[0m                 \u001b[0mencoding\u001b[0m\u001b[0;34m=\u001b[0m\u001b[0mioargs\u001b[0m\u001b[0;34m.\u001b[0m\u001b[0mencoding\u001b[0m\u001b[0;34m,\u001b[0m\u001b[0;34m\u001b[0m\u001b[0;34m\u001b[0m\u001b[0m\n\u001b[1;32m    706\u001b[0m                 \u001b[0merrors\u001b[0m\u001b[0;34m=\u001b[0m\u001b[0merrors\u001b[0m\u001b[0;34m,\u001b[0m\u001b[0;34m\u001b[0m\u001b[0;34m\u001b[0m\u001b[0m\n\u001b[0;32m--> 707\u001b[0;31m                 \u001b[0mnewline\u001b[0m\u001b[0;34m=\u001b[0m\u001b[0;34m\"\"\u001b[0m\u001b[0;34m,\u001b[0m\u001b[0;34m\u001b[0m\u001b[0;34m\u001b[0m\u001b[0m\n\u001b[0m\u001b[1;32m    708\u001b[0m             )\n\u001b[1;32m    709\u001b[0m         \u001b[0;32melse\u001b[0m\u001b[0;34m:\u001b[0m\u001b[0;34m\u001b[0m\u001b[0;34m\u001b[0m\u001b[0m\n",
            "\u001b[0;31mFileNotFoundError\u001b[0m: [Errno 2] No such file or directory: 'classificacao_binaria_train.csv'"
          ]
        }
      ],
      "source": [
        "dados_original = pd.read_csv('classificacao_binaria_train.csv',sep=';',encoding='utf-8')"
      ]
    },
    {
      "cell_type": "code",
      "execution_count": null,
      "metadata": {
        "id": "rEC3lJCKDm-Z"
      },
      "outputs": [],
      "source": [
        "# Substituindo o item Parcialmente autorizado por Autorizado\n",
        "dados_original['DS_STATUS_ITEM'] = dados_original['DS_STATUS_ITEM'].replace('Parcialmente autorizado','Autorizado')"
      ]
    },
    {
      "cell_type": "markdown",
      "metadata": {
        "id": "vTYcAgG_RJvU"
      },
      "source": [
        "## Visão geral dos dados\n",
        "aqui olhamos os tipos dos dados, quantidade de atributos e registros e verificamos a quantidade dos dados nulos."
      ]
    },
    {
      "cell_type": "code",
      "execution_count": null,
      "metadata": {
        "colab": {
          "base_uri": "https://localhost:8080/"
        },
        "id": "nd7rdtPaQWB3",
        "outputId": "01186969-5c88-44da-886d-8ca1c31471a1"
      },
      "outputs": [
        {
          "output_type": "execute_result",
          "data": {
            "text/plain": [
              "        NR_SEQ_REQUISICAO  NR_SEQ_ITEM  DT_REQUISICAO  \\\n",
              "385710             872205      2115147        2459236   \n",
              "124822            1392451      3816798        2459508   \n",
              "\n",
              "                       DS_TIPO_GUIA  DT_NASCIMENTO  NR_PRODUTO  \\\n",
              "385710  Guia de solicitac?o SP/SADT      2434010.0           1   \n",
              "124822  Guia de solicitac?o SP/SADT      2441741.0           1   \n",
              "\n",
              "       DS_TIPO_PREST_SOLICITANTE                                 DS_CBO  \\\n",
              "385710         CLINICA DE IMAGEM  Medico ortopedista e traumatologista    \n",
              "124822                   CLINICA  Medico ortopedista e traumatologista    \n",
              "\n",
              "       DS_TIPO_CONSULTA  QT_TEMPO_DOENCA DS_UNIDADE_TEMPO_DOENCA  \\\n",
              "385710              NaN              NaN                     NaN   \n",
              "124822              NaN              NaN                     NaN   \n",
              "\n",
              "       DS_TIPO_DOENCA DS_INDICACAO_ACIDENTE  DS_TIPO_SAIDA DS_TIPO_INTERNACAO  \\\n",
              "385710            NaN          N?o acidente            NaN                NaN   \n",
              "124822            NaN                Outros            NaN                NaN   \n",
              "\n",
              "       DS_REGIME_INTERNACAO DS_CARATER_ATENDIMENTO DS_TIPO_ACOMODACAO  \\\n",
              "385710                  NaN                Eletiva                NaN   \n",
              "124822                  NaN                Eletiva                NaN   \n",
              "\n",
              "        QT_DIA_SOLICITADO  CD_GUIA_REFERENCIA DS_TIPO_ATENDIMENTO CD_CID  \\\n",
              "385710                NaN                 NaN              Exames    Z10   \n",
              "124822                NaN                 NaN            Terapias    NaN   \n",
              "\n",
              "       DS_INDICACAO_CLINICA   DS_TIPO_ITEM   CD_ITEM  \\\n",
              "385710          SEGUE ANEXO  Procedimentos  41101227   \n",
              "124822  fisioterapia ombro   Procedimentos  20103484   \n",
              "\n",
              "                                                  DS_ITEM  \\\n",
              "385710  RM - RESSONANCIA MAGNETICA - COLUNA CERVICAL O...   \n",
              "124822           PATOLOGIA OSTEOMIOARTICULAR EM UM MEMBRO   \n",
              "\n",
              "                                DS_CLASSE  \\\n",
              "385710  RESSONANCIA MAGNETICA DIAGNOSTICA   \n",
              "124822            REABILITAC?ES - SESS?ES   \n",
              "\n",
              "                                 DS_SUBGRUPO  \\\n",
              "385710                 RESSONANCIA MAGNETICA   \n",
              "124822  PROCEDIMENTOS CLINICOS AMBULATORIAIS   \n",
              "\n",
              "                                   DS_GRUPO  QT_SOLICITADA DS_STATUS_ITEM  \n",
              "385710  PROCED. DIAGNOSTICOS E TERAPEUTICOS              1     Autorizado  \n",
              "124822                     PROCED. CLINICOS             10         Negado  "
            ],
            "text/html": [
              "\n",
              "  <div id=\"df-61701914-4535-4715-97c4-98978c3af3f5\">\n",
              "    <div class=\"colab-df-container\">\n",
              "      <div>\n",
              "<style scoped>\n",
              "    .dataframe tbody tr th:only-of-type {\n",
              "        vertical-align: middle;\n",
              "    }\n",
              "\n",
              "    .dataframe tbody tr th {\n",
              "        vertical-align: top;\n",
              "    }\n",
              "\n",
              "    .dataframe thead th {\n",
              "        text-align: right;\n",
              "    }\n",
              "</style>\n",
              "<table border=\"1\" class=\"dataframe\">\n",
              "  <thead>\n",
              "    <tr style=\"text-align: right;\">\n",
              "      <th></th>\n",
              "      <th>NR_SEQ_REQUISICAO</th>\n",
              "      <th>NR_SEQ_ITEM</th>\n",
              "      <th>DT_REQUISICAO</th>\n",
              "      <th>DS_TIPO_GUIA</th>\n",
              "      <th>DT_NASCIMENTO</th>\n",
              "      <th>NR_PRODUTO</th>\n",
              "      <th>DS_TIPO_PREST_SOLICITANTE</th>\n",
              "      <th>DS_CBO</th>\n",
              "      <th>DS_TIPO_CONSULTA</th>\n",
              "      <th>QT_TEMPO_DOENCA</th>\n",
              "      <th>DS_UNIDADE_TEMPO_DOENCA</th>\n",
              "      <th>DS_TIPO_DOENCA</th>\n",
              "      <th>DS_INDICACAO_ACIDENTE</th>\n",
              "      <th>DS_TIPO_SAIDA</th>\n",
              "      <th>DS_TIPO_INTERNACAO</th>\n",
              "      <th>DS_REGIME_INTERNACAO</th>\n",
              "      <th>DS_CARATER_ATENDIMENTO</th>\n",
              "      <th>DS_TIPO_ACOMODACAO</th>\n",
              "      <th>QT_DIA_SOLICITADO</th>\n",
              "      <th>CD_GUIA_REFERENCIA</th>\n",
              "      <th>DS_TIPO_ATENDIMENTO</th>\n",
              "      <th>CD_CID</th>\n",
              "      <th>DS_INDICACAO_CLINICA</th>\n",
              "      <th>DS_TIPO_ITEM</th>\n",
              "      <th>CD_ITEM</th>\n",
              "      <th>DS_ITEM</th>\n",
              "      <th>DS_CLASSE</th>\n",
              "      <th>DS_SUBGRUPO</th>\n",
              "      <th>DS_GRUPO</th>\n",
              "      <th>QT_SOLICITADA</th>\n",
              "      <th>DS_STATUS_ITEM</th>\n",
              "    </tr>\n",
              "  </thead>\n",
              "  <tbody>\n",
              "    <tr>\n",
              "      <th>385710</th>\n",
              "      <td>872205</td>\n",
              "      <td>2115147</td>\n",
              "      <td>2459236</td>\n",
              "      <td>Guia de solicitac?o SP/SADT</td>\n",
              "      <td>2434010.0</td>\n",
              "      <td>1</td>\n",
              "      <td>CLINICA DE IMAGEM</td>\n",
              "      <td>Medico ortopedista e traumatologista</td>\n",
              "      <td>NaN</td>\n",
              "      <td>NaN</td>\n",
              "      <td>NaN</td>\n",
              "      <td>NaN</td>\n",
              "      <td>N?o acidente</td>\n",
              "      <td>NaN</td>\n",
              "      <td>NaN</td>\n",
              "      <td>NaN</td>\n",
              "      <td>Eletiva</td>\n",
              "      <td>NaN</td>\n",
              "      <td>NaN</td>\n",
              "      <td>NaN</td>\n",
              "      <td>Exames</td>\n",
              "      <td>Z10</td>\n",
              "      <td>SEGUE ANEXO</td>\n",
              "      <td>Procedimentos</td>\n",
              "      <td>41101227</td>\n",
              "      <td>RM - RESSONANCIA MAGNETICA - COLUNA CERVICAL O...</td>\n",
              "      <td>RESSONANCIA MAGNETICA DIAGNOSTICA</td>\n",
              "      <td>RESSONANCIA MAGNETICA</td>\n",
              "      <td>PROCED. DIAGNOSTICOS E TERAPEUTICOS</td>\n",
              "      <td>1</td>\n",
              "      <td>Autorizado</td>\n",
              "    </tr>\n",
              "    <tr>\n",
              "      <th>124822</th>\n",
              "      <td>1392451</td>\n",
              "      <td>3816798</td>\n",
              "      <td>2459508</td>\n",
              "      <td>Guia de solicitac?o SP/SADT</td>\n",
              "      <td>2441741.0</td>\n",
              "      <td>1</td>\n",
              "      <td>CLINICA</td>\n",
              "      <td>Medico ortopedista e traumatologista</td>\n",
              "      <td>NaN</td>\n",
              "      <td>NaN</td>\n",
              "      <td>NaN</td>\n",
              "      <td>NaN</td>\n",
              "      <td>Outros</td>\n",
              "      <td>NaN</td>\n",
              "      <td>NaN</td>\n",
              "      <td>NaN</td>\n",
              "      <td>Eletiva</td>\n",
              "      <td>NaN</td>\n",
              "      <td>NaN</td>\n",
              "      <td>NaN</td>\n",
              "      <td>Terapias</td>\n",
              "      <td>NaN</td>\n",
              "      <td>fisioterapia ombro</td>\n",
              "      <td>Procedimentos</td>\n",
              "      <td>20103484</td>\n",
              "      <td>PATOLOGIA OSTEOMIOARTICULAR EM UM MEMBRO</td>\n",
              "      <td>REABILITAC?ES - SESS?ES</td>\n",
              "      <td>PROCEDIMENTOS CLINICOS AMBULATORIAIS</td>\n",
              "      <td>PROCED. CLINICOS</td>\n",
              "      <td>10</td>\n",
              "      <td>Negado</td>\n",
              "    </tr>\n",
              "  </tbody>\n",
              "</table>\n",
              "</div>\n",
              "      <button class=\"colab-df-convert\" onclick=\"convertToInteractive('df-61701914-4535-4715-97c4-98978c3af3f5')\"\n",
              "              title=\"Convert this dataframe to an interactive table.\"\n",
              "              style=\"display:none;\">\n",
              "        \n",
              "  <svg xmlns=\"http://www.w3.org/2000/svg\" height=\"24px\"viewBox=\"0 0 24 24\"\n",
              "       width=\"24px\">\n",
              "    <path d=\"M0 0h24v24H0V0z\" fill=\"none\"/>\n",
              "    <path d=\"M18.56 5.44l.94 2.06.94-2.06 2.06-.94-2.06-.94-.94-2.06-.94 2.06-2.06.94zm-11 1L8.5 8.5l.94-2.06 2.06-.94-2.06-.94L8.5 2.5l-.94 2.06-2.06.94zm10 10l.94 2.06.94-2.06 2.06-.94-2.06-.94-.94-2.06-.94 2.06-2.06.94z\"/><path d=\"M17.41 7.96l-1.37-1.37c-.4-.4-.92-.59-1.43-.59-.52 0-1.04.2-1.43.59L10.3 9.45l-7.72 7.72c-.78.78-.78 2.05 0 2.83L4 21.41c.39.39.9.59 1.41.59.51 0 1.02-.2 1.41-.59l7.78-7.78 2.81-2.81c.8-.78.8-2.07 0-2.86zM5.41 20L4 18.59l7.72-7.72 1.47 1.35L5.41 20z\"/>\n",
              "  </svg>\n",
              "      </button>\n",
              "      \n",
              "  <style>\n",
              "    .colab-df-container {\n",
              "      display:flex;\n",
              "      flex-wrap:wrap;\n",
              "      gap: 12px;\n",
              "    }\n",
              "\n",
              "    .colab-df-convert {\n",
              "      background-color: #E8F0FE;\n",
              "      border: none;\n",
              "      border-radius: 50%;\n",
              "      cursor: pointer;\n",
              "      display: none;\n",
              "      fill: #1967D2;\n",
              "      height: 32px;\n",
              "      padding: 0 0 0 0;\n",
              "      width: 32px;\n",
              "    }\n",
              "\n",
              "    .colab-df-convert:hover {\n",
              "      background-color: #E2EBFA;\n",
              "      box-shadow: 0px 1px 2px rgba(60, 64, 67, 0.3), 0px 1px 3px 1px rgba(60, 64, 67, 0.15);\n",
              "      fill: #174EA6;\n",
              "    }\n",
              "\n",
              "    [theme=dark] .colab-df-convert {\n",
              "      background-color: #3B4455;\n",
              "      fill: #D2E3FC;\n",
              "    }\n",
              "\n",
              "    [theme=dark] .colab-df-convert:hover {\n",
              "      background-color: #434B5C;\n",
              "      box-shadow: 0px 1px 3px 1px rgba(0, 0, 0, 0.15);\n",
              "      filter: drop-shadow(0px 1px 2px rgba(0, 0, 0, 0.3));\n",
              "      fill: #FFFFFF;\n",
              "    }\n",
              "  </style>\n",
              "\n",
              "      <script>\n",
              "        const buttonEl =\n",
              "          document.querySelector('#df-61701914-4535-4715-97c4-98978c3af3f5 button.colab-df-convert');\n",
              "        buttonEl.style.display =\n",
              "          google.colab.kernel.accessAllowed ? 'block' : 'none';\n",
              "\n",
              "        async function convertToInteractive(key) {\n",
              "          const element = document.querySelector('#df-61701914-4535-4715-97c4-98978c3af3f5');\n",
              "          const dataTable =\n",
              "            await google.colab.kernel.invokeFunction('convertToInteractive',\n",
              "                                                     [key], {});\n",
              "          if (!dataTable) return;\n",
              "\n",
              "          const docLinkHtml = 'Like what you see? Visit the ' +\n",
              "            '<a target=\"_blank\" href=https://colab.research.google.com/notebooks/data_table.ipynb>data table notebook</a>'\n",
              "            + ' to learn more about interactive tables.';\n",
              "          element.innerHTML = '';\n",
              "          dataTable['output_type'] = 'display_data';\n",
              "          await google.colab.output.renderOutput(dataTable, element);\n",
              "          const docLink = document.createElement('div');\n",
              "          docLink.innerHTML = docLinkHtml;\n",
              "          element.appendChild(docLink);\n",
              "        }\n",
              "      </script>\n",
              "    </div>\n",
              "  </div>\n",
              "  "
            ]
          },
          "metadata": {},
          "execution_count": 70
        }
      ],
      "source": [
        "dados_original.sample(2)"
      ]
    },
    {
      "cell_type": "code",
      "execution_count": null,
      "metadata": {
        "colab": {
          "base_uri": "https://localhost:8080/"
        },
        "id": "lbcm5-dMdFWg",
        "outputId": "526d0fae-a06e-464b-d587-f02a43787567"
      },
      "outputs": [
        {
          "output_type": "execute_result",
          "data": {
            "text/plain": [
              "(412540, 31)"
            ]
          },
          "metadata": {},
          "execution_count": 71
        }
      ],
      "source": [
        "#Quantidade de linhas e colunas\n",
        "dados_original.shape"
      ]
    },
    {
      "cell_type": "code",
      "execution_count": null,
      "metadata": {
        "colab": {
          "base_uri": "https://localhost:8080/"
        },
        "id": "TFpNEwD2WOB6",
        "outputId": "70a711ed-f988-4e40-f0c5-b8ab438ea7f2"
      },
      "outputs": [
        {
          "output_type": "execute_result",
          "data": {
            "text/plain": [
              "NR_SEQ_REQUISICAO              int64\n",
              "NR_SEQ_ITEM                    int64\n",
              "DT_REQUISICAO                  int64\n",
              "DS_TIPO_GUIA                  object\n",
              "DT_NASCIMENTO                float64\n",
              "NR_PRODUTO                     int64\n",
              "DS_TIPO_PREST_SOLICITANTE     object\n",
              "DS_CBO                        object\n",
              "DS_TIPO_CONSULTA              object\n",
              "QT_TEMPO_DOENCA              float64\n",
              "DS_UNIDADE_TEMPO_DOENCA       object\n",
              "DS_TIPO_DOENCA                object\n",
              "DS_INDICACAO_ACIDENTE         object\n",
              "DS_TIPO_SAIDA                float64\n",
              "DS_TIPO_INTERNACAO            object\n",
              "DS_REGIME_INTERNACAO          object\n",
              "DS_CARATER_ATENDIMENTO        object\n",
              "DS_TIPO_ACOMODACAO            object\n",
              "QT_DIA_SOLICITADO            float64\n",
              "CD_GUIA_REFERENCIA           float64\n",
              "DS_TIPO_ATENDIMENTO           object\n",
              "CD_CID                        object\n",
              "DS_INDICACAO_CLINICA          object\n",
              "DS_TIPO_ITEM                  object\n",
              "CD_ITEM                        int64\n",
              "DS_ITEM                       object\n",
              "DS_CLASSE                     object\n",
              "DS_SUBGRUPO                   object\n",
              "DS_GRUPO                      object\n",
              "QT_SOLICITADA                  int64\n",
              "DS_STATUS_ITEM                object\n",
              "dtype: object"
            ]
          },
          "metadata": {},
          "execution_count": 72
        }
      ],
      "source": [
        "# Verificando os tipos dos dados\n",
        "dados_original.dtypes"
      ]
    },
    {
      "cell_type": "code",
      "execution_count": null,
      "metadata": {
        "colab": {
          "base_uri": "https://localhost:8080/"
        },
        "id": "ue5XkYjoR6Wp",
        "outputId": "43caae32-04c0-4d77-f0cc-2c87498831e6"
      },
      "outputs": [
        {
          "output_type": "execute_result",
          "data": {
            "text/plain": [
              "NR_SEQ_REQUISICAO                 0\n",
              "NR_SEQ_ITEM                       0\n",
              "DT_REQUISICAO                     0\n",
              "DS_TIPO_GUIA                      0\n",
              "DT_NASCIMENTO                    11\n",
              "NR_PRODUTO                        0\n",
              "DS_TIPO_PREST_SOLICITANTE         0\n",
              "DS_CBO                            0\n",
              "DS_TIPO_CONSULTA             396851\n",
              "QT_TEMPO_DOENCA              412259\n",
              "DS_UNIDADE_TEMPO_DOENCA      412258\n",
              "DS_TIPO_DOENCA               411573\n",
              "DS_INDICACAO_ACIDENTE         32050\n",
              "DS_TIPO_SAIDA                412540\n",
              "DS_TIPO_INTERNACAO           290612\n",
              "DS_REGIME_INTERNACAO         290611\n",
              "DS_CARATER_ATENDIMENTO            0\n",
              "DS_TIPO_ACOMODACAO           290686\n",
              "QT_DIA_SOLICITADO            291855\n",
              "CD_GUIA_REFERENCIA           342242\n",
              "DS_TIPO_ATENDIMENTO          121289\n",
              "CD_CID                       235017\n",
              "DS_INDICACAO_CLINICA          87470\n",
              "DS_TIPO_ITEM                      0\n",
              "CD_ITEM                           0\n",
              "DS_ITEM                           0\n",
              "DS_CLASSE                         0\n",
              "DS_SUBGRUPO                       0\n",
              "DS_GRUPO                          0\n",
              "QT_SOLICITADA                     0\n",
              "DS_STATUS_ITEM                    0\n",
              "dtype: int64"
            ]
          },
          "metadata": {},
          "execution_count": 73
        }
      ],
      "source": [
        "#Verificando a quantidade de nulos em cada atributo\n",
        "dados_original.isnull().sum()"
      ]
    },
    {
      "cell_type": "markdown",
      "metadata": {
        "id": "amNkvpqCXO4V"
      },
      "source": [
        "## Limpeza de dados\n",
        "Eliminando dados faltantes ,duplicados e irrelevantes para o problema"
      ]
    },
    {
      "cell_type": "code",
      "execution_count": null,
      "metadata": {
        "id": "trmHHd9LQqiO"
      },
      "outputs": [],
      "source": [
        "#Após uma analise da descrição dos dados, esses atributos seram dropados por não agregar no target\n",
        "dados_original = dados_original.drop([\t'NR_SEQ_ITEM','NR_PRODUTO','DS_TIPO_SAIDA'],axis='columns') "
      ]
    },
    {
      "cell_type": "markdown",
      "metadata": {
        "id": "InMpni3-vof2"
      },
      "source": [
        "### Eliminando atributos com muito dados nulos\n",
        "\n",
        "\n",
        "---\n",
        "\n",
        "\n",
        "Aqui eliminamos os atributos que possui mais que x% dos dados faltando(null)"
      ]
    },
    {
      "cell_type": "code",
      "execution_count": null,
      "metadata": {
        "colab": {
          "base_uri": "https://localhost:8080/"
        },
        "id": "COy7CZNLXgfl",
        "outputId": "dd75ed90-144d-40d0-f9b0-5f66a00cae45"
      },
      "outputs": [
        {
          "output_type": "stream",
          "name": "stdout",
          "text": [
            "(412540, 28)\n"
          ]
        }
      ],
      "source": [
        "dados = dados_original\n",
        "\n",
        "limiar_exclusao = 0.2 \n",
        "limiar = int(dados.shape[0] * (limiar_exclusao)) # calcula o limiar em função da quantidade de objetos do df\n",
        "dados = dados.dropna(axis='columns', how='any', thresh=limiar) \n",
        "\n",
        "print(dados_original.shape) # quantidade atual da dimenção"
      ]
    },
    {
      "cell_type": "code",
      "execution_count": null,
      "metadata": {
        "colab": {
          "base_uri": "https://localhost:8080/"
        },
        "id": "kVx6vlFJk43k",
        "outputId": "f9cafbc5-6dec-4bfb-c9cf-4cf57cc6604b"
      },
      "outputs": [
        {
          "output_type": "stream",
          "name": "stdout",
          "text": [
            "{'DS_TIPO_CONSULTA', 'DS_UNIDADE_TEMPO_DOENCA', 'CD_GUIA_REFERENCIA', 'QT_TEMPO_DOENCA', 'DS_TIPO_DOENCA'}\n"
          ]
        }
      ],
      "source": [
        "# lista de atributos que foram eliminadas na etapa anterior\n",
        "print( set(dados_original.columns.tolist()) -  set(dados.columns.tolist()))"
      ]
    },
    {
      "cell_type": "markdown",
      "metadata": {
        "id": "s_TltxBwkafy"
      },
      "source": [
        "\n",
        "---\n",
        "\n",
        "Ainda existem muito dados nullos, sua eliminação ou tratamento será decidido posteriormente após analises"
      ]
    },
    {
      "cell_type": "markdown",
      "metadata": {
        "id": "ULU308GiT264"
      },
      "source": [
        "### Elimento duplicados e inconsistentes\n",
        "---"
      ]
    },
    {
      "cell_type": "markdown",
      "source": [
        "Registros duplicados"
      ],
      "metadata": {
        "id": "9IB5NHWsPSrV"
      }
    },
    {
      "cell_type": "code",
      "execution_count": null,
      "metadata": {
        "colab": {
          "base_uri": "https://localhost:8080/"
        },
        "id": "KsKgmFz_T9jo",
        "outputId": "466654ad-0f29-4c98-cae1-60019feb5e65"
      },
      "outputs": [
        {
          "output_type": "execute_result",
          "data": {
            "text/plain": [
              "4194"
            ]
          },
          "metadata": {},
          "execution_count": 77
        }
      ],
      "source": [
        "# numero de registros duplicados\n",
        "atributos_de_feature = dados.columns\n",
        "atributos_de_feature = atributos_de_feature.drop(labels=['NR_SEQ_REQUISICAO']) # NR_SEQ_REQUISICAO irei usar como chave primaria para possiveis junções\n",
        "dados[dados.duplicated(subset= atributos_de_feature  ,keep=False)].shape[0] "
      ]
    },
    {
      "cell_type": "code",
      "execution_count": null,
      "metadata": {
        "colab": {
          "base_uri": "https://localhost:8080/"
        },
        "id": "MBXhzdM5UOEl",
        "outputId": "ca20adbf-55d6-4256-f2f4-9fbf5699ca8b"
      },
      "outputs": [
        {
          "output_type": "execute_result",
          "data": {
            "text/plain": [
              "(410130, 23)"
            ]
          },
          "metadata": {},
          "execution_count": 78
        }
      ],
      "source": [
        "#eliminando os duplicados\n",
        "dados = dados.drop_duplicates(subset = atributos_de_feature ,keep='last') \n",
        "dados.shape"
      ]
    },
    {
      "cell_type": "markdown",
      "source": [
        "Registros inconsistente"
      ],
      "metadata": {
        "id": "Gf-Ro51LPMUg"
      }
    },
    {
      "cell_type": "code",
      "execution_count": null,
      "metadata": {
        "colab": {
          "base_uri": "https://localhost:8080/"
        },
        "id": "eoe0eORmRh6E",
        "outputId": "5a0c9bfe-a05d-453e-821d-f820b109e5e0"
      },
      "outputs": [
        {
          "output_type": "stream",
          "name": "stdout",
          "text": [
            "1634\n"
          ]
        }
      ],
      "source": [
        "#eliminando registros inconsistentes com o target (todas os atributos iguais com o resultado diferente)\n",
        "atributos_entrada = dados.columns\n",
        "atributos_entrada = atributos_entrada.drop(labels=['NR_SEQ_REQUISICAO','DS_STATUS_ITEM'])\n",
        "\n",
        "# numero de registros inconsistentes com o target\n",
        "print(dados[ dados.duplicated(subset=atributos_entrada, keep=False)  ].shape[0])"
      ]
    },
    {
      "cell_type": "code",
      "execution_count": null,
      "metadata": {
        "colab": {
          "base_uri": "https://localhost:8080/"
        },
        "id": "ZHxQvwfzCGji",
        "outputId": "17ccbadc-1b95-43ed-b050-ec9c3c2ef1f3"
      },
      "outputs": [
        {
          "output_type": "stream",
          "name": "stdout",
          "text": [
            "(408496, 23)\n"
          ]
        }
      ],
      "source": [
        "dados = dados.drop_duplicates(subset=atributos_entrada, keep=False)\n",
        "\n",
        "#dimenção atual do dataframe\n",
        "print(dados.shape) "
      ]
    },
    {
      "cell_type": "code",
      "execution_count": null,
      "metadata": {
        "colab": {
          "base_uri": "https://localhost:8080/"
        },
        "id": "C3fdAMFbCipF",
        "outputId": "e5c99629-28f8-4cd1-a3c1-ba991e6b9dec"
      },
      "outputs": [
        {
          "output_type": "stream",
          "name": "stdout",
          "text": [
            "(408496, 20)\n"
          ]
        }
      ],
      "source": [
        "#Após mais uma analise, esses atributos seram dropados por possuirem muitos valores unicos e não ter como trata-los no momento\n",
        "dados = dados.drop(['DS_CBO','DS_INDICACAO_CLINICA','DS_ITEM'],axis='columns') \n",
        "print(dados.shape)"
      ]
    },
    {
      "cell_type": "markdown",
      "metadata": {
        "id": "Hlb143ZaaRWR"
      },
      "source": [
        "## Analise estatistico\n",
        "Explorando dados para conhecer e descobrir possiveis padrões"
      ]
    },
    {
      "cell_type": "markdown",
      "metadata": {
        "id": "MK69W33VvvJ5"
      },
      "source": [
        "#### Analisaremos os atributos com suas propiedades estatisticas"
      ]
    },
    {
      "cell_type": "code",
      "execution_count": null,
      "metadata": {
        "colab": {
          "base_uri": "https://localhost:8080/"
        },
        "id": "fDvZmrwYOyEE",
        "outputId": "eed457eb-d139-4d5e-eba7-5dcf0b63bb73"
      },
      "outputs": [
        {
          "output_type": "execute_result",
          "data": {
            "text/plain": [
              "                       DS_TIPO_GUIA DS_TIPO_PREST_SOLICITANTE  \\\n",
              "count                        408496                    408496   \n",
              "unique                            3                        12   \n",
              "top     Guia de solicitac?o SP/SADT                   CLINICA   \n",
              "freq                         287545                    161180   \n",
              "\n",
              "       DS_INDICACAO_ACIDENTE DS_TIPO_INTERNACAO DS_REGIME_INTERNACAO  \\\n",
              "count                 376664             120930               120931   \n",
              "unique                     4                  6                    3   \n",
              "top             N?o acidente            Clinica           Hospitalar   \n",
              "freq                  315870              57923               114515   \n",
              "\n",
              "       DS_CARATER_ATENDIMENTO DS_TIPO_ACOMODACAO DS_TIPO_ATENDIMENTO  CD_CID  \\\n",
              "count                  408496             120856              288205  175938   \n",
              "unique                      2                  8                  13    1901   \n",
              "top                   Eletiva         Enfermaria              Exames     Z00   \n",
              "freq                   284580              81603              187989   15298   \n",
              "\n",
              "         DS_TIPO_ITEM      DS_CLASSE             DS_SUBGRUPO  \\\n",
              "count          408496         408496                  408496   \n",
              "unique              2            501                      74   \n",
              "top     Procedimentos  PROCEDIMENTOS  MEDICINA LABORATORIAL    \n",
              "freq           331819          43287                   60914   \n",
              "\n",
              "                                   DS_GRUPO DS_STATUS_ITEM  \n",
              "count                                408496         408496  \n",
              "unique                                    9              2  \n",
              "top     PROCED. DIAGNOSTICOS E TERAPEUTICOS     Autorizado  \n",
              "freq                                 194757         283098  "
            ],
            "text/html": [
              "\n",
              "  <div id=\"df-a0a7d159-5de0-4f49-a158-e831740fc438\">\n",
              "    <div class=\"colab-df-container\">\n",
              "      <div>\n",
              "<style scoped>\n",
              "    .dataframe tbody tr th:only-of-type {\n",
              "        vertical-align: middle;\n",
              "    }\n",
              "\n",
              "    .dataframe tbody tr th {\n",
              "        vertical-align: top;\n",
              "    }\n",
              "\n",
              "    .dataframe thead th {\n",
              "        text-align: right;\n",
              "    }\n",
              "</style>\n",
              "<table border=\"1\" class=\"dataframe\">\n",
              "  <thead>\n",
              "    <tr style=\"text-align: right;\">\n",
              "      <th></th>\n",
              "      <th>DS_TIPO_GUIA</th>\n",
              "      <th>DS_TIPO_PREST_SOLICITANTE</th>\n",
              "      <th>DS_INDICACAO_ACIDENTE</th>\n",
              "      <th>DS_TIPO_INTERNACAO</th>\n",
              "      <th>DS_REGIME_INTERNACAO</th>\n",
              "      <th>DS_CARATER_ATENDIMENTO</th>\n",
              "      <th>DS_TIPO_ACOMODACAO</th>\n",
              "      <th>DS_TIPO_ATENDIMENTO</th>\n",
              "      <th>CD_CID</th>\n",
              "      <th>DS_TIPO_ITEM</th>\n",
              "      <th>DS_CLASSE</th>\n",
              "      <th>DS_SUBGRUPO</th>\n",
              "      <th>DS_GRUPO</th>\n",
              "      <th>DS_STATUS_ITEM</th>\n",
              "    </tr>\n",
              "  </thead>\n",
              "  <tbody>\n",
              "    <tr>\n",
              "      <th>count</th>\n",
              "      <td>408496</td>\n",
              "      <td>408496</td>\n",
              "      <td>376664</td>\n",
              "      <td>120930</td>\n",
              "      <td>120931</td>\n",
              "      <td>408496</td>\n",
              "      <td>120856</td>\n",
              "      <td>288205</td>\n",
              "      <td>175938</td>\n",
              "      <td>408496</td>\n",
              "      <td>408496</td>\n",
              "      <td>408496</td>\n",
              "      <td>408496</td>\n",
              "      <td>408496</td>\n",
              "    </tr>\n",
              "    <tr>\n",
              "      <th>unique</th>\n",
              "      <td>3</td>\n",
              "      <td>12</td>\n",
              "      <td>4</td>\n",
              "      <td>6</td>\n",
              "      <td>3</td>\n",
              "      <td>2</td>\n",
              "      <td>8</td>\n",
              "      <td>13</td>\n",
              "      <td>1901</td>\n",
              "      <td>2</td>\n",
              "      <td>501</td>\n",
              "      <td>74</td>\n",
              "      <td>9</td>\n",
              "      <td>2</td>\n",
              "    </tr>\n",
              "    <tr>\n",
              "      <th>top</th>\n",
              "      <td>Guia de solicitac?o SP/SADT</td>\n",
              "      <td>CLINICA</td>\n",
              "      <td>N?o acidente</td>\n",
              "      <td>Clinica</td>\n",
              "      <td>Hospitalar</td>\n",
              "      <td>Eletiva</td>\n",
              "      <td>Enfermaria</td>\n",
              "      <td>Exames</td>\n",
              "      <td>Z00</td>\n",
              "      <td>Procedimentos</td>\n",
              "      <td>PROCEDIMENTOS</td>\n",
              "      <td>MEDICINA LABORATORIAL</td>\n",
              "      <td>PROCED. DIAGNOSTICOS E TERAPEUTICOS</td>\n",
              "      <td>Autorizado</td>\n",
              "    </tr>\n",
              "    <tr>\n",
              "      <th>freq</th>\n",
              "      <td>287545</td>\n",
              "      <td>161180</td>\n",
              "      <td>315870</td>\n",
              "      <td>57923</td>\n",
              "      <td>114515</td>\n",
              "      <td>284580</td>\n",
              "      <td>81603</td>\n",
              "      <td>187989</td>\n",
              "      <td>15298</td>\n",
              "      <td>331819</td>\n",
              "      <td>43287</td>\n",
              "      <td>60914</td>\n",
              "      <td>194757</td>\n",
              "      <td>283098</td>\n",
              "    </tr>\n",
              "  </tbody>\n",
              "</table>\n",
              "</div>\n",
              "      <button class=\"colab-df-convert\" onclick=\"convertToInteractive('df-a0a7d159-5de0-4f49-a158-e831740fc438')\"\n",
              "              title=\"Convert this dataframe to an interactive table.\"\n",
              "              style=\"display:none;\">\n",
              "        \n",
              "  <svg xmlns=\"http://www.w3.org/2000/svg\" height=\"24px\"viewBox=\"0 0 24 24\"\n",
              "       width=\"24px\">\n",
              "    <path d=\"M0 0h24v24H0V0z\" fill=\"none\"/>\n",
              "    <path d=\"M18.56 5.44l.94 2.06.94-2.06 2.06-.94-2.06-.94-.94-2.06-.94 2.06-2.06.94zm-11 1L8.5 8.5l.94-2.06 2.06-.94-2.06-.94L8.5 2.5l-.94 2.06-2.06.94zm10 10l.94 2.06.94-2.06 2.06-.94-2.06-.94-.94-2.06-.94 2.06-2.06.94z\"/><path d=\"M17.41 7.96l-1.37-1.37c-.4-.4-.92-.59-1.43-.59-.52 0-1.04.2-1.43.59L10.3 9.45l-7.72 7.72c-.78.78-.78 2.05 0 2.83L4 21.41c.39.39.9.59 1.41.59.51 0 1.02-.2 1.41-.59l7.78-7.78 2.81-2.81c.8-.78.8-2.07 0-2.86zM5.41 20L4 18.59l7.72-7.72 1.47 1.35L5.41 20z\"/>\n",
              "  </svg>\n",
              "      </button>\n",
              "      \n",
              "  <style>\n",
              "    .colab-df-container {\n",
              "      display:flex;\n",
              "      flex-wrap:wrap;\n",
              "      gap: 12px;\n",
              "    }\n",
              "\n",
              "    .colab-df-convert {\n",
              "      background-color: #E8F0FE;\n",
              "      border: none;\n",
              "      border-radius: 50%;\n",
              "      cursor: pointer;\n",
              "      display: none;\n",
              "      fill: #1967D2;\n",
              "      height: 32px;\n",
              "      padding: 0 0 0 0;\n",
              "      width: 32px;\n",
              "    }\n",
              "\n",
              "    .colab-df-convert:hover {\n",
              "      background-color: #E2EBFA;\n",
              "      box-shadow: 0px 1px 2px rgba(60, 64, 67, 0.3), 0px 1px 3px 1px rgba(60, 64, 67, 0.15);\n",
              "      fill: #174EA6;\n",
              "    }\n",
              "\n",
              "    [theme=dark] .colab-df-convert {\n",
              "      background-color: #3B4455;\n",
              "      fill: #D2E3FC;\n",
              "    }\n",
              "\n",
              "    [theme=dark] .colab-df-convert:hover {\n",
              "      background-color: #434B5C;\n",
              "      box-shadow: 0px 1px 3px 1px rgba(0, 0, 0, 0.15);\n",
              "      filter: drop-shadow(0px 1px 2px rgba(0, 0, 0, 0.3));\n",
              "      fill: #FFFFFF;\n",
              "    }\n",
              "  </style>\n",
              "\n",
              "      <script>\n",
              "        const buttonEl =\n",
              "          document.querySelector('#df-a0a7d159-5de0-4f49-a158-e831740fc438 button.colab-df-convert');\n",
              "        buttonEl.style.display =\n",
              "          google.colab.kernel.accessAllowed ? 'block' : 'none';\n",
              "\n",
              "        async function convertToInteractive(key) {\n",
              "          const element = document.querySelector('#df-a0a7d159-5de0-4f49-a158-e831740fc438');\n",
              "          const dataTable =\n",
              "            await google.colab.kernel.invokeFunction('convertToInteractive',\n",
              "                                                     [key], {});\n",
              "          if (!dataTable) return;\n",
              "\n",
              "          const docLinkHtml = 'Like what you see? Visit the ' +\n",
              "            '<a target=\"_blank\" href=https://colab.research.google.com/notebooks/data_table.ipynb>data table notebook</a>'\n",
              "            + ' to learn more about interactive tables.';\n",
              "          element.innerHTML = '';\n",
              "          dataTable['output_type'] = 'display_data';\n",
              "          await google.colab.output.renderOutput(dataTable, element);\n",
              "          const docLink = document.createElement('div');\n",
              "          docLink.innerHTML = docLinkHtml;\n",
              "          element.appendChild(docLink);\n",
              "        }\n",
              "      </script>\n",
              "    </div>\n",
              "  </div>\n",
              "  "
            ]
          },
          "metadata": {},
          "execution_count": 82
        }
      ],
      "source": [
        "#descrição atuais dos dados categoricos\n",
        "dados.select_dtypes(include='object').describe()"
      ]
    },
    {
      "cell_type": "code",
      "execution_count": null,
      "metadata": {
        "colab": {
          "base_uri": "https://localhost:8080/"
        },
        "id": "aqR1brMyq7f6",
        "outputId": "8338ded3-bdc1-4c85-8eec-8c544e87fa98"
      },
      "outputs": [
        {
          "output_type": "execute_result",
          "data": {
            "text/plain": [
              "       QT_DIA_SOLICITADO  QT_SOLICITADA\n",
              "count      119723.000000  408496.000000\n",
              "mean            2.450640      58.715229\n",
              "std             3.669241    4072.483203\n",
              "min             0.000000       1.000000\n",
              "25%             1.000000       1.000000\n",
              "50%             1.000000       1.000000\n",
              "75%             3.000000       2.000000\n",
              "max            55.000000  600343.000000"
            ],
            "text/html": [
              "\n",
              "  <div id=\"df-30275a43-d65f-456e-bf1c-526b64867fd0\">\n",
              "    <div class=\"colab-df-container\">\n",
              "      <div>\n",
              "<style scoped>\n",
              "    .dataframe tbody tr th:only-of-type {\n",
              "        vertical-align: middle;\n",
              "    }\n",
              "\n",
              "    .dataframe tbody tr th {\n",
              "        vertical-align: top;\n",
              "    }\n",
              "\n",
              "    .dataframe thead th {\n",
              "        text-align: right;\n",
              "    }\n",
              "</style>\n",
              "<table border=\"1\" class=\"dataframe\">\n",
              "  <thead>\n",
              "    <tr style=\"text-align: right;\">\n",
              "      <th></th>\n",
              "      <th>QT_DIA_SOLICITADO</th>\n",
              "      <th>QT_SOLICITADA</th>\n",
              "    </tr>\n",
              "  </thead>\n",
              "  <tbody>\n",
              "    <tr>\n",
              "      <th>count</th>\n",
              "      <td>119723.000000</td>\n",
              "      <td>408496.000000</td>\n",
              "    </tr>\n",
              "    <tr>\n",
              "      <th>mean</th>\n",
              "      <td>2.450640</td>\n",
              "      <td>58.715229</td>\n",
              "    </tr>\n",
              "    <tr>\n",
              "      <th>std</th>\n",
              "      <td>3.669241</td>\n",
              "      <td>4072.483203</td>\n",
              "    </tr>\n",
              "    <tr>\n",
              "      <th>min</th>\n",
              "      <td>0.000000</td>\n",
              "      <td>1.000000</td>\n",
              "    </tr>\n",
              "    <tr>\n",
              "      <th>25%</th>\n",
              "      <td>1.000000</td>\n",
              "      <td>1.000000</td>\n",
              "    </tr>\n",
              "    <tr>\n",
              "      <th>50%</th>\n",
              "      <td>1.000000</td>\n",
              "      <td>1.000000</td>\n",
              "    </tr>\n",
              "    <tr>\n",
              "      <th>75%</th>\n",
              "      <td>3.000000</td>\n",
              "      <td>2.000000</td>\n",
              "    </tr>\n",
              "    <tr>\n",
              "      <th>max</th>\n",
              "      <td>55.000000</td>\n",
              "      <td>600343.000000</td>\n",
              "    </tr>\n",
              "  </tbody>\n",
              "</table>\n",
              "</div>\n",
              "      <button class=\"colab-df-convert\" onclick=\"convertToInteractive('df-30275a43-d65f-456e-bf1c-526b64867fd0')\"\n",
              "              title=\"Convert this dataframe to an interactive table.\"\n",
              "              style=\"display:none;\">\n",
              "        \n",
              "  <svg xmlns=\"http://www.w3.org/2000/svg\" height=\"24px\"viewBox=\"0 0 24 24\"\n",
              "       width=\"24px\">\n",
              "    <path d=\"M0 0h24v24H0V0z\" fill=\"none\"/>\n",
              "    <path d=\"M18.56 5.44l.94 2.06.94-2.06 2.06-.94-2.06-.94-.94-2.06-.94 2.06-2.06.94zm-11 1L8.5 8.5l.94-2.06 2.06-.94-2.06-.94L8.5 2.5l-.94 2.06-2.06.94zm10 10l.94 2.06.94-2.06 2.06-.94-2.06-.94-.94-2.06-.94 2.06-2.06.94z\"/><path d=\"M17.41 7.96l-1.37-1.37c-.4-.4-.92-.59-1.43-.59-.52 0-1.04.2-1.43.59L10.3 9.45l-7.72 7.72c-.78.78-.78 2.05 0 2.83L4 21.41c.39.39.9.59 1.41.59.51 0 1.02-.2 1.41-.59l7.78-7.78 2.81-2.81c.8-.78.8-2.07 0-2.86zM5.41 20L4 18.59l7.72-7.72 1.47 1.35L5.41 20z\"/>\n",
              "  </svg>\n",
              "      </button>\n",
              "      \n",
              "  <style>\n",
              "    .colab-df-container {\n",
              "      display:flex;\n",
              "      flex-wrap:wrap;\n",
              "      gap: 12px;\n",
              "    }\n",
              "\n",
              "    .colab-df-convert {\n",
              "      background-color: #E8F0FE;\n",
              "      border: none;\n",
              "      border-radius: 50%;\n",
              "      cursor: pointer;\n",
              "      display: none;\n",
              "      fill: #1967D2;\n",
              "      height: 32px;\n",
              "      padding: 0 0 0 0;\n",
              "      width: 32px;\n",
              "    }\n",
              "\n",
              "    .colab-df-convert:hover {\n",
              "      background-color: #E2EBFA;\n",
              "      box-shadow: 0px 1px 2px rgba(60, 64, 67, 0.3), 0px 1px 3px 1px rgba(60, 64, 67, 0.15);\n",
              "      fill: #174EA6;\n",
              "    }\n",
              "\n",
              "    [theme=dark] .colab-df-convert {\n",
              "      background-color: #3B4455;\n",
              "      fill: #D2E3FC;\n",
              "    }\n",
              "\n",
              "    [theme=dark] .colab-df-convert:hover {\n",
              "      background-color: #434B5C;\n",
              "      box-shadow: 0px 1px 3px 1px rgba(0, 0, 0, 0.15);\n",
              "      filter: drop-shadow(0px 1px 2px rgba(0, 0, 0, 0.3));\n",
              "      fill: #FFFFFF;\n",
              "    }\n",
              "  </style>\n",
              "\n",
              "      <script>\n",
              "        const buttonEl =\n",
              "          document.querySelector('#df-30275a43-d65f-456e-bf1c-526b64867fd0 button.colab-df-convert');\n",
              "        buttonEl.style.display =\n",
              "          google.colab.kernel.accessAllowed ? 'block' : 'none';\n",
              "\n",
              "        async function convertToInteractive(key) {\n",
              "          const element = document.querySelector('#df-30275a43-d65f-456e-bf1c-526b64867fd0');\n",
              "          const dataTable =\n",
              "            await google.colab.kernel.invokeFunction('convertToInteractive',\n",
              "                                                     [key], {});\n",
              "          if (!dataTable) return;\n",
              "\n",
              "          const docLinkHtml = 'Like what you see? Visit the ' +\n",
              "            '<a target=\"_blank\" href=https://colab.research.google.com/notebooks/data_table.ipynb>data table notebook</a>'\n",
              "            + ' to learn more about interactive tables.';\n",
              "          element.innerHTML = '';\n",
              "          dataTable['output_type'] = 'display_data';\n",
              "          await google.colab.output.renderOutput(dataTable, element);\n",
              "          const docLink = document.createElement('div');\n",
              "          docLink.innerHTML = docLinkHtml;\n",
              "          element.appendChild(docLink);\n",
              "        }\n",
              "      </script>\n",
              "    </div>\n",
              "  </div>\n",
              "  "
            ]
          },
          "metadata": {},
          "execution_count": 83
        }
      ],
      "source": [
        "dados[['QT_DIA_SOLICITADO','QT_SOLICITADA']].describe()"
      ]
    },
    {
      "cell_type": "code",
      "execution_count": null,
      "metadata": {
        "colab": {
          "base_uri": "https://localhost:8080/"
        },
        "id": "8MPLqGClVciB",
        "outputId": "09790d5a-10f3-404d-b41f-13933e1ea0d5"
      },
      "outputs": [
        {
          "output_type": "stream",
          "name": "stdout",
          "text": [
            "Autorizado    283098\n",
            "Negado        125398\n",
            "Name: DS_STATUS_ITEM, dtype: int64\n"
          ]
        },
        {
          "output_type": "display_data",
          "data": {
            "text/plain": [
              "<Figure size 432x288 with 1 Axes>"
            ],
            "image/png": "[encoded data removed]"
          },
          "metadata": {
            "needs_background": "light"
          }
        }
      ],
      "source": [
        "#Verificando a quantidade de itens do atributo target\n",
        "print(dados['DS_STATUS_ITEM'].value_counts())\n",
        "sns.countplot(x=\"DS_STATUS_ITEM\", data=dados)\n",
        "plt.show()"
      ]
    },
    {
      "cell_type": "markdown",
      "metadata": {
        "id": "Tuw2GY5xQFwW"
      },
      "source": [
        "#### Analises para atributos numericos"
      ]
    },
    {
      "cell_type": "code",
      "execution_count": null,
      "metadata": {
        "colab": {
          "base_uri": "https://localhost:8080/"
        },
        "id": "gLt4asUFfMru",
        "outputId": "f3718e22-a7eb-4405-fb0c-db83a1fef54d"
      },
      "outputs": [
        {
          "output_type": "execute_result",
          "data": {
            "text/plain": [
              "[None]"
            ]
          },
          "metadata": {},
          "execution_count": 85
        },
        {
          "output_type": "display_data",
          "data": {
            "text/plain": [
              "<Figure size 432x288 with 1 Axes>"
            ],
            "image/png": "[encoded data removed]"
          },
          "metadata": {
            "needs_background": "light"
          }
        }
      ],
      "source": [
        "#verificando a quantidade de itens solicitados (em escala de log) \n",
        "g = sns.boxplot(x=\"QT_SOLICITADA\", data=dados)\n",
        "g.set(xscale=\"log\")"
      ]
    },
    {
      "cell_type": "code",
      "execution_count": null,
      "metadata": {
        "colab": {
          "base_uri": "https://localhost:8080/"
        },
        "id": "c3hyxsLR8V40",
        "outputId": "25dc48f0-eb47-428b-d440-edd81e0c4737"
      },
      "outputs": [
        {
          "output_type": "display_data",
          "data": {
            "text/plain": [
              "<Figure size 432x288 with 1 Axes>"
            ],
            "image/png": "[encoded data removed]"
          },
          "metadata": {
            "needs_background": "light"
          }
        }
      ],
      "source": [
        "#verificando a quantidade de dias solicitados (em casos de solicitação de internação)\n",
        "sns.boxplot(x=\"QT_DIA_SOLICITADO\", data=dados)\n",
        "plt.show()"
      ]
    },
    {
      "cell_type": "markdown",
      "metadata": {
        "id": "V_57mzIQQUxb"
      },
      "source": [
        "#### Analise da relação do target (DS_STATUS_ITEM) com alguns atributos\n",
        "---\n",
        "Explorando como o target se comporta combinado com alguns atributos "
      ]
    },
    {
      "cell_type": "markdown",
      "metadata": {
        "id": "42CCjZiPvDZo"
      },
      "source": [
        "##### Analise com o atributo QT_SOLICITADA (itens)"
      ]
    },
    {
      "cell_type": "code",
      "execution_count": null,
      "metadata": {
        "colab": {
          "base_uri": "https://localhost:8080/"
        },
        "id": "Y2BvwcYXy2sU",
        "outputId": "0c273687-0cc5-4a99-9fb0-8410e269a296"
      },
      "outputs": [
        {
          "output_type": "execute_result",
          "data": {
            "text/plain": [
              "<seaborn.axisgrid.FacetGrid at 0x7f5eda7d1f50>"
            ]
          },
          "metadata": {},
          "execution_count": 87
        },
        {
          "output_type": "display_data",
          "data": {
            "text/plain": [
              "<Figure size 829.875x360 with 1 Axes>"
            ],
            "image/png": "[encoded data removed]"
          },
          "metadata": {
            "needs_background": "light"
          }
        }
      ],
      "source": [
        "#verificando a quantidade de solicitações de itens por tipo do item em relação aos autorizados ou negados\n",
        "sns.catplot(x=\"DS_STATUS_ITEM\", y=\"QT_SOLICITADA\", hue=\"DS_TIPO_ITEM\", kind=\"bar\",\n",
        "            height=5, aspect=2 ,data=dados)\n"
      ]
    },
    {
      "cell_type": "code",
      "execution_count": null,
      "metadata": {
        "colab": {
          "base_uri": "https://localhost:8080/"
        },
        "id": "1hU2J3GgU3Bj",
        "outputId": "bdaf2859-798f-4790-ea3c-6fa55c429ca5"
      },
      "outputs": [
        {
          "output_type": "stream",
          "name": "stdout",
          "text": [
            "Guia de solicitac?o SP/SADT                         287545\n",
            "Guia de solicitac?o internac?o                       61656\n",
            "Guia de solicitac?o de prorrogac?o de internac?o     59295\n",
            "Name: DS_TIPO_GUIA, dtype: int64\n"
          ]
        },
        {
          "output_type": "execute_result",
          "data": {
            "text/plain": [
              "<matplotlib.axes._subplots.AxesSubplot at 0x7f5edb308590>"
            ]
          },
          "metadata": {},
          "execution_count": 88
        },
        {
          "output_type": "display_data",
          "data": {
            "text/plain": [
              "<Figure size 864x360 with 1 Axes>"
            ],
            "image/png": "[encoded data removed]"
          },
          "metadata": {}
        }
      ],
      "source": [
        "#Contando a quantiade por cada guia de solicitação\n",
        "print(dados['DS_TIPO_GUIA'].value_counts())\n",
        "sns.set(rc = {'figure.figsize':(12,5)})\n",
        "sns.countplot(x=\"DS_TIPO_GUIA\", data=dados)"
      ]
    },
    {
      "cell_type": "code",
      "execution_count": null,
      "metadata": {
        "colab": {
          "base_uri": "https://localhost:8080/"
        },
        "id": "MC1_K1TvxtYq",
        "outputId": "489af156-bbea-4ea5-ac61-3ebb4c724ae1"
      },
      "outputs": [
        {
          "output_type": "execute_result",
          "data": {
            "text/plain": [
              "<seaborn.axisgrid.FacetGrid at 0x7f5edb930250>"
            ]
          },
          "metadata": {},
          "execution_count": 89
        },
        {
          "output_type": "display_data",
          "data": {
            "text/plain": [
              "<Figure size 933.1x360 with 1 Axes>"
            ],
            "image/png": "[encoded data removed]"
          },
          "metadata": {}
        }
      ],
      "source": [
        "#verificando a quantidade de solicitações de itens por tipo de atendimento em relação aos autorizados ou negados\n",
        "sns.catplot(x=\"DS_STATUS_ITEM\", y=\"QT_SOLICITADA\", hue=\"DS_TIPO_ATENDIMENTO\", kind=\"bar\", height=5, aspect=2 ,data=dados)"
      ]
    },
    {
      "cell_type": "code",
      "execution_count": null,
      "metadata": {
        "colab": {
          "base_uri": "https://localhost:8080/"
        },
        "id": "tGNgy75ucO5S",
        "outputId": "67b5c007-1c17-401a-8253-7b32bd55dbd9"
      },
      "outputs": [
        {
          "output_type": "execute_result",
          "data": {
            "text/plain": [
              "<seaborn.axisgrid.FacetGrid at 0x7f5edad93850>"
            ]
          },
          "metadata": {},
          "execution_count": 90
        },
        {
          "output_type": "display_data",
          "data": {
            "text/plain": [
              "<Figure size 648x648 with 3 Axes>"
            ],
            "image/png": "[encoded data removed]"
          },
          "metadata": {}
        }
      ],
      "source": [
        "# analisando em escala log a quantidade de itens solicitado(QT_SOLICITADA), divido entre os tipo de solicitações(DS_TIPO_GUIA)\n",
        "g = sns.catplot(x=\"QT_SOLICITADA\", y=\"DS_STATUS_ITEM\", row=\"DS_TIPO_GUIA\",\n",
        "                kind=\"box\", orient=\"h\", height=3, aspect=3,\n",
        "                data=dados)\n",
        "g.set(xscale=\"log\")"
      ]
    },
    {
      "cell_type": "markdown",
      "metadata": {
        "id": "E2U25mEZUs32"
      },
      "source": [
        "Analisando os mesmos itens anterior, agora filtrando para 95% dos itens"
      ]
    },
    {
      "cell_type": "code",
      "execution_count": null,
      "metadata": {
        "colab": {
          "base_uri": "https://localhost:8080/"
        },
        "id": "-bnixtqkTBAY",
        "outputId": "da96e937-93ab-4a8f-c7d9-6f943530c856"
      },
      "outputs": [
        {
          "output_type": "display_data",
          "data": {
            "text/plain": [
              "<Figure size 648x648 with 3 Axes>"
            ],
            "image/png": "[encoded data removed]"
          },
          "metadata": {}
        }
      ],
      "source": [
        "# analisando limitando a quantidade de itens solicitado por uma faixa do percentil\n",
        "\n",
        "# calculando o percitil x da QT_SOLICITADA\n",
        "percentil = stats.scoreatpercentile(dados['QT_SOLICITADA'], 95)\n",
        "\n",
        "g = sns.catplot(x=\"QT_SOLICITADA\", y=\"DS_STATUS_ITEM\", row=\"DS_TIPO_GUIA\",\n",
        "                kind=\"box\", orient=\"h\", height=3, aspect=3,\n",
        "                data=dados[dados['QT_SOLICITADA']<= percentil])"
      ]
    },
    {
      "cell_type": "markdown",
      "metadata": {
        "id": "wY8QkJO1u5DZ"
      },
      "source": [
        "##### Analise com o atributo QT_DIA_SOLICITADO (internações)"
      ]
    },
    {
      "cell_type": "code",
      "execution_count": null,
      "metadata": {
        "colab": {
          "base_uri": "https://localhost:8080/"
        },
        "id": "mmSQ-ZvPDBQR",
        "outputId": "9e029931-43d7-4d67-bab9-7952a97ba96a"
      },
      "outputs": [
        {
          "output_type": "stream",
          "name": "stdout",
          "text": [
            "Eletiva                284580\n",
            "Urgencia/Emergencia    123916\n",
            "Name: DS_CARATER_ATENDIMENTO, dtype: int64\n"
          ]
        },
        {
          "output_type": "display_data",
          "data": {
            "text/plain": [
              "<Figure size 648x432 with 2 Axes>"
            ],
            "image/png": "[encoded data removed]"
          },
          "metadata": {}
        }
      ],
      "source": [
        "# analisando a quantidade de dias solicitado(QT_DIA_SOLICITADO), separado entre os tipo de atendimento(DS_CARATER_ATENDIMENTO)\n",
        "g = sns.catplot(x=\"QT_DIA_SOLICITADO\", y=\"DS_STATUS_ITEM\", row=\"DS_CARATER_ATENDIMENTO\",\n",
        "                kind=\"box\", orient=\"h\", height=3, aspect=3,\n",
        "                data=dados) \n",
        "print(dados['DS_CARATER_ATENDIMENTO'].value_counts() )"
      ]
    },
    {
      "cell_type": "code",
      "execution_count": null,
      "metadata": {
        "colab": {
          "base_uri": "https://localhost:8080/"
        },
        "id": "YdeAgW5aHEnH",
        "outputId": "4257f273-5aa1-4fa0-fe66-4ab1fb779c46"
      },
      "outputs": [
        {
          "output_type": "stream",
          "name": "stdout",
          "text": [
            "Exames                              187989\n",
            "Pequena cirurgia                     45121\n",
            "Quimioterapia                        19844\n",
            "Pequenos atendimentos                12605\n",
            "Pronto socorro                        9239\n",
            "Terapias                              6433\n",
            "Internac?o (SADT internado)           3324\n",
            "Terapia renal substitutiva (TRS)      1297\n",
            "Consulta                              1195\n",
            "Atendimento domiciliar                 490\n",
            "Radioterapia                           368\n",
            "Remoc?o                                206\n",
            "Terapia hiperbarica                     94\n",
            "Name: DS_TIPO_ATENDIMENTO, dtype: int64\n"
          ]
        },
        {
          "output_type": "display_data",
          "data": {
            "text/plain": [
              "<Figure size 933.1x360 with 1 Axes>"
            ],
            "image/png": "[encoded data removed]"
          },
          "metadata": {}
        }
      ],
      "source": [
        "#Verificando a quantidade de solicitações de internações do DS_TIPO_ATENDIMENTO entre os atributos DS_STATUS_ITEM\n",
        "sns.catplot(x=\"DS_STATUS_ITEM\", y=\"QT_DIA_SOLICITADO\", hue=\"DS_TIPO_ATENDIMENTO\", kind=\"bar\", height=5, aspect=2 ,data=dados)\n",
        "print(dados['DS_TIPO_ATENDIMENTO'].value_counts() )"
      ]
    },
    {
      "cell_type": "code",
      "execution_count": null,
      "metadata": {
        "colab": {
          "base_uri": "https://localhost:8080/"
        },
        "id": "bTcm6abGPmkr",
        "outputId": "5f2cbd50-1e33-4d43-ba86-21560e8ccc05"
      },
      "outputs": [
        {
          "output_type": "stream",
          "name": "stdout",
          "text": [
            "Procedimentos    331819\n",
            "MAT/MED           76677\n",
            "Name: DS_TIPO_ITEM, dtype: int64\n"
          ]
        },
        {
          "output_type": "display_data",
          "data": {
            "text/plain": [
              "<Figure size 648x432 with 2 Axes>"
            ],
            "image/png": "[encoded data removed]"
          },
          "metadata": {}
        }
      ],
      "source": [
        "#verificando a distribuição de autoricações ou rejeições entre DS_TIPO_ITEM e QT_DIA_SOLICITADO\n",
        "g = sns.catplot(x=\"QT_DIA_SOLICITADO\", y=\"DS_STATUS_ITEM\", row=\"DS_TIPO_ITEM\",\n",
        "                kind=\"box\", orient=\"h\", height=3, aspect=3,\n",
        "                data=dados)\n",
        "print(dados['DS_TIPO_ITEM'].value_counts() )"
      ]
    },
    {
      "cell_type": "markdown",
      "source": [
        "##### Verificando a contagem de itens em relação ao target"
      ],
      "metadata": {
        "id": "6JC53Qg5g8RZ"
      }
    },
    {
      "cell_type": "code",
      "execution_count": null,
      "metadata": {
        "colab": {
          "base_uri": "https://localhost:8080/"
        },
        "id": "OfEDzJ4hyxdN",
        "outputId": "caa573b6-26a8-4e81-cfb9-e34d5a29da93"
      },
      "outputs": [
        {
          "output_type": "execute_result",
          "data": {
            "text/plain": [
              "Guia de solicitac?o SP/SADT                         0.703911\n",
              "Guia de solicitac?o internac?o                      0.150934\n",
              "Guia de solicitac?o de prorrogac?o de internac?o    0.145154\n",
              "Name: DS_TIPO_GUIA, dtype: float64"
            ]
          },
          "metadata": {},
          "execution_count": 95
        },
        {
          "output_type": "display_data",
          "data": {
            "text/plain": [
              "<Figure size 864x360 with 1 Axes>"
            ],
            "image/png": "[encoded data removed]"
          },
          "metadata": {}
        }
      ],
      "source": [
        "#visualização da distribuição de valores do atributo 'DS_TIPO_GUIA'\n",
        "DS_TIPO_GUIA_hist = sns.histplot(data=dados,y='DS_TIPO_GUIA',hue='DS_STATUS_ITEM', multiple='stack', kde=True, shrink=.9)\n",
        "DS_TIPO_GUIA_hist\n",
        "dados['DS_TIPO_GUIA'].value_counts(normalize=True)"
      ]
    },
    {
      "cell_type": "code",
      "execution_count": null,
      "metadata": {
        "colab": {
          "base_uri": "https://localhost:8080/"
        },
        "id": "FyKlYWO6z8eD",
        "outputId": "e490eaba-c509-43ac-86f2-d811400577f9"
      },
      "outputs": [
        {
          "output_type": "execute_result",
          "data": {
            "text/plain": [
              "CLINICA                  0.394569\n",
              "HOSPITAL                 0.374523\n",
              "LABORATORIO              0.100172\n",
              "CLINICA DE IMAGEM        0.050710\n",
              "PRESTADOR DE SERVICOS    0.035190\n",
              "MEDICO                   0.016482\n",
              "UTI                      0.015119\n",
              "CLINICA  DE UROLOGIA     0.009332\n",
              "HOME CARE                0.001958\n",
              "CLINICA DE RADIOLOGIA    0.000969\n",
              "INTERCAMBIO              0.000624\n",
              "COOPERATIVA              0.000350\n",
              "Name: DS_TIPO_PREST_SOLICITANTE, dtype: float64"
            ]
          },
          "metadata": {},
          "execution_count": 96
        },
        {
          "output_type": "display_data",
          "data": {
            "text/plain": [
              "<Figure size 864x360 with 1 Axes>"
            ],
            "image/png": "[encoded data removed]"
          },
          "metadata": {}
        }
      ],
      "source": [
        "#visualização da frequencia de atributos da classe 'DS_TIPO_PREST_SOLICITANTE'\n",
        "sns.histplot(dados,y='DS_TIPO_PREST_SOLICITANTE',hue='DS_STATUS_ITEM', multiple='stack', kde=True, shrink=.9)\n",
        "dados['DS_TIPO_PREST_SOLICITANTE'].value_counts(normalize=True)"
      ]
    },
    {
      "cell_type": "code",
      "execution_count": null,
      "metadata": {
        "colab": {
          "base_uri": "https://localhost:8080/"
        },
        "id": "GvHlR-ru0Ooj",
        "outputId": "9a58e406-3f64-4982-e8f1-cd892ea47121"
      },
      "outputs": [
        {
          "output_type": "execute_result",
          "data": {
            "text/plain": [
              "N?o acidente    0.838599\n",
              "Outros          0.158937\n",
              "Trabalho        0.001959\n",
              "Transito        0.000504\n",
              "Name: DS_INDICACAO_ACIDENTE, dtype: float64"
            ]
          },
          "metadata": {},
          "execution_count": 97
        },
        {
          "output_type": "display_data",
          "data": {
            "text/plain": [
              "<Figure size 864x360 with 1 Axes>"
            ],
            "image/png": "[encoded data removed]"
          },
          "metadata": {}
        }
      ],
      "source": [
        "#verificando a distribuição de valores de atributos da classe 'DS_INDICACAO_ACIDENTE' \n",
        "sns.histplot(dados,y='DS_INDICACAO_ACIDENTE',hue='DS_STATUS_ITEM', multiple='stack', shrink=.9, kde=True)\n",
        "dados['DS_INDICACAO_ACIDENTE'].value_counts(normalize=True)"
      ]
    },
    {
      "cell_type": "code",
      "execution_count": null,
      "metadata": {
        "colab": {
          "base_uri": "https://localhost:8080/"
        },
        "id": "51PyEVOu0cZQ",
        "outputId": "f749cfbf-2891-47cc-9712-b577b86bf02c"
      },
      "outputs": [
        {
          "output_type": "execute_result",
          "data": {
            "text/plain": [
              "Clinica         0.478980\n",
              "Cirurgica       0.473580\n",
              "Pediatrica      0.021012\n",
              "Obstetrica      0.014876\n",
              "Hemodinamica    0.010973\n",
              "Psiquiatrica    0.000579\n",
              "Name: DS_TIPO_INTERNACAO, dtype: float64"
            ]
          },
          "metadata": {},
          "execution_count": 98
        },
        {
          "output_type": "display_data",
          "data": {
            "text/plain": [
              "<Figure size 864x360 with 1 Axes>"
            ],
            "image/png": "[encoded data removed]"
          },
          "metadata": {}
        }
      ],
      "source": [
        "#verificando a distribuição de valores de atributos da classe 'DS_TIPO_INTERNACAO'\n",
        "sns.histplot(dados,y='DS_TIPO_INTERNACAO',hue='DS_STATUS_ITEM', multiple='stack', shrink=.9, kde=True)\n",
        "dados['DS_TIPO_INTERNACAO'].value_counts(normalize=True)"
      ]
    },
    {
      "cell_type": "code",
      "execution_count": null,
      "metadata": {
        "colab": {
          "base_uri": "https://localhost:8080/"
        },
        "id": "jnDhbgdI0l65",
        "outputId": "74170cbc-c415-44ef-c6ec-0fc627056932"
      },
      "outputs": [
        {
          "output_type": "execute_result",
          "data": {
            "text/plain": [
              "Hospitalar      0.946945\n",
              "Hospital-dia    0.047912\n",
              "Domiciliar      0.005143\n",
              "Name: DS_REGIME_INTERNACAO, dtype: float64"
            ]
          },
          "metadata": {},
          "execution_count": 99
        },
        {
          "output_type": "display_data",
          "data": {
            "text/plain": [
              "<Figure size 864x360 with 1 Axes>"
            ],
            "image/png": "[encoded data removed]"
          },
          "metadata": {}
        }
      ],
      "source": [
        "#verificando a distribuição de valores de atributos da classe 'DS_REGIME_INTERNACAO'\n",
        "sns.histplot(dados,y='DS_REGIME_INTERNACAO',hue='DS_STATUS_ITEM', multiple='stack', shrink=.9)\n",
        "dados['DS_REGIME_INTERNACAO'].value_counts(normalize=True)"
      ]
    },
    {
      "cell_type": "code",
      "execution_count": null,
      "metadata": {
        "colab": {
          "base_uri": "https://localhost:8080/"
        },
        "id": "4i0pG2ve043i",
        "outputId": "0760c953-acc7-4085-99d6-06f445fde083"
      },
      "outputs": [
        {
          "output_type": "execute_result",
          "data": {
            "text/plain": [
              "Eletiva                284580\n",
              "Urgencia/Emergencia    123916\n",
              "Name: DS_CARATER_ATENDIMENTO, dtype: int64"
            ]
          },
          "metadata": {},
          "execution_count": 100
        },
        {
          "output_type": "display_data",
          "data": {
            "text/plain": [
              "<Figure size 864x360 with 1 Axes>"
            ],
            "image/png": "[encoded data removed]"
          },
          "metadata": {}
        }
      ],
      "source": [
        "#verificando a distribuição de valores de atributos da classe 'DS_CARATER_ATENDIMENTO'\n",
        "sns.histplot(dados,y='DS_CARATER_ATENDIMENTO',hue='DS_STATUS_ITEM', multiple='stack', shrink=.9)\n",
        "dados['DS_CARATER_ATENDIMENTO'].value_counts()"
      ]
    },
    {
      "cell_type": "markdown",
      "metadata": {
        "id": "zR5ieKysPmIc"
      },
      "source": [
        "## Classificação\n",
        "Aqui fazemos alguns testes em tratamentos de nulos e classificadores"
      ]
    },
    {
      "cell_type": "markdown",
      "metadata": {
        "id": "xrJfLLzvZ4fo"
      },
      "source": [
        "#### Tratando alguns dados"
      ]
    },
    {
      "cell_type": "code",
      "execution_count": null,
      "metadata": {
        "id": "CmL9X4UjPv-8"
      },
      "outputs": [],
      "source": [
        "dados_teste = dados"
      ]
    },
    {
      "cell_type": "code",
      "source": [
        "dados_teste.shape"
      ],
      "metadata": {
        "colab": {
          "base_uri": "https://localhost:8080/"
        },
        "id": "6KGpcfM4yvTs",
        "outputId": "71eeb12b-2d01-4d45-d5d2-a4f103bac467"
      },
      "execution_count": null,
      "outputs": [
        {
          "output_type": "execute_result",
          "data": {
            "text/plain": [
              "(408496, 20)"
            ]
          },
          "metadata": {},
          "execution_count": 102
        }
      ]
    },
    {
      "cell_type": "code",
      "execution_count": null,
      "metadata": {
        "colab": {
          "base_uri": "https://localhost:8080/"
        },
        "id": "pI6FD85bmeqz",
        "outputId": "17ab356d-e9db-4a53-aa7a-417754786209"
      },
      "outputs": [
        {
          "output_type": "stream",
          "name": "stderr",
          "text": [
            "/usr/local/lib/python3.7/dist-packages/ipykernel_launcher.py:23: SettingWithCopyWarning: \n",
            "A value is trying to be set on a copy of a slice from a DataFrame.\n",
            "Try using .loc[row_indexer,col_indexer] = value instead\n",
            "\n",
            "See the caveats in the documentation: https://pandas.pydata.org/pandas-docs/stable/user_guide/indexing.html#returning-a-view-versus-a-copy\n"
          ]
        }
      ],
      "source": [
        "#Tratando dados\n",
        "\n",
        "# Vimos que a maioria dos dados nulos para essa categoria vem do tipo de atendimento EXAMES, logo não necessita de internação\n",
        "dados_teste['QT_DIA_SOLICITADO'].fillna(0, inplace=True)\n",
        "\n",
        "#Alterando a ordem de DT_NASCIMENTO para os que são mais melhos terem mais peso\n",
        "dados_teste['DT_NASCIMENTO'] = dados_teste['DT_NASCIMENTO'].apply(lambda x : -x)\n",
        "\n",
        "# Vimos que a maioria dos dados nulos para essa categoria vem do tipo de atendimento Guia de solicitacao SP/SADT, logo não necessita de internação, assim criamos uma nova categoria para isso.\n",
        "for feature in ['DS_TIPO_INTERNACAO','DS_TIPO_ACOMODACAO','DS_REGIME_INTERNACAO']:\n",
        "  dados_teste[feature].fillna('Nao_Internado', inplace=True)\n",
        "\n",
        "# Vimos que todos os nulos de DS_TIPO_ATENDIMENTO são de iternação\n",
        "dados_teste['DS_TIPO_ATENDIMENTO'].fillna('Internacao', inplace=True)  \n",
        "\n",
        "#Substituindo os nulo pelo item de DS_INDICACAO_ACIDENTE que representa 82% dos dados não nulos\n",
        "dados_teste['DS_INDICACAO_ACIDENTE'].fillna('N?o acidente', inplace=True)  \n",
        "\n",
        "#Dropando registros nulos de DT_NASCIMENTO\n",
        "dados_teste = dados_teste.dropna(subset=['DT_NASCIMENTO'])\n",
        "\n",
        "#binarizando o target\n",
        "dados_teste['DS_STATUS_ITEM'] = dados_teste['DS_STATUS_ITEM'].map({'Autorizado':0, 'Negado':1}) \n"
      ]
    },
    {
      "cell_type": "code",
      "execution_count": null,
      "metadata": {
        "colab": {
          "base_uri": "https://localhost:8080/"
        },
        "id": "3QhPODrlUVmC",
        "outputId": "b4a7be0d-4786-46c0-dcdc-6cb4c8e0702f"
      },
      "outputs": [
        {
          "output_type": "execute_result",
          "data": {
            "text/plain": [
              "        NR_SEQ_REQUISICAO  DT_REQUISICAO                    DS_TIPO_GUIA  \\\n",
              "372765             819827        2459202  Guia de solicitac?o internac?o   \n",
              "\n",
              "        DT_NASCIMENTO DS_TIPO_PREST_SOLICITANTE DS_INDICACAO_ACIDENTE  \\\n",
              "372765     -2441085.0                  HOSPITAL                Outros   \n",
              "\n",
              "       DS_TIPO_INTERNACAO DS_REGIME_INTERNACAO DS_CARATER_ATENDIMENTO  \\\n",
              "372765          Cirurgica           Hospitalar                Eletiva   \n",
              "\n",
              "       DS_TIPO_ACOMODACAO  QT_DIA_SOLICITADO DS_TIPO_ATENDIMENTO CD_CID  \\\n",
              "372765         Enfermaria                1.0          Internacao   N201   \n",
              "\n",
              "         DS_TIPO_ITEM   CD_ITEM DS_CLASSE       DS_SUBGRUPO  \\\n",
              "372765  Procedimentos  31102077    URETER  SISTEMA URINARIO   \n",
              "\n",
              "                               DS_GRUPO  QT_SOLICITADA  DS_STATUS_ITEM  \n",
              "372765  PROCED. CIRURGICOS E INVASIVOS               1               1  "
            ],
            "text/html": [
              "\n",
              "  <div id=\"df-b67270a3-6889-4369-ad0c-1e0bb9207cb4\">\n",
              "    <div class=\"colab-df-container\">\n",
              "      <div>\n",
              "<style scoped>\n",
              "    .dataframe tbody tr th:only-of-type {\n",
              "        vertical-align: middle;\n",
              "    }\n",
              "\n",
              "    .dataframe tbody tr th {\n",
              "        vertical-align: top;\n",
              "    }\n",
              "\n",
              "    .dataframe thead th {\n",
              "        text-align: right;\n",
              "    }\n",
              "</style>\n",
              "<table border=\"1\" class=\"dataframe\">\n",
              "  <thead>\n",
              "    <tr style=\"text-align: right;\">\n",
              "      <th></th>\n",
              "      <th>NR_SEQ_REQUISICAO</th>\n",
              "      <th>DT_REQUISICAO</th>\n",
              "      <th>DS_TIPO_GUIA</th>\n",
              "      <th>DT_NASCIMENTO</th>\n",
              "      <th>DS_TIPO_PREST_SOLICITANTE</th>\n",
              "      <th>DS_INDICACAO_ACIDENTE</th>\n",
              "      <th>DS_TIPO_INTERNACAO</th>\n",
              "      <th>DS_REGIME_INTERNACAO</th>\n",
              "      <th>DS_CARATER_ATENDIMENTO</th>\n",
              "      <th>DS_TIPO_ACOMODACAO</th>\n",
              "      <th>QT_DIA_SOLICITADO</th>\n",
              "      <th>DS_TIPO_ATENDIMENTO</th>\n",
              "      <th>CD_CID</th>\n",
              "      <th>DS_TIPO_ITEM</th>\n",
              "      <th>CD_ITEM</th>\n",
              "      <th>DS_CLASSE</th>\n",
              "      <th>DS_SUBGRUPO</th>\n",
              "      <th>DS_GRUPO</th>\n",
              "      <th>QT_SOLICITADA</th>\n",
              "      <th>DS_STATUS_ITEM</th>\n",
              "    </tr>\n",
              "  </thead>\n",
              "  <tbody>\n",
              "    <tr>\n",
              "      <th>372765</th>\n",
              "      <td>819827</td>\n",
              "      <td>2459202</td>\n",
              "      <td>Guia de solicitac?o internac?o</td>\n",
              "      <td>-2441085.0</td>\n",
              "      <td>HOSPITAL</td>\n",
              "      <td>Outros</td>\n",
              "      <td>Cirurgica</td>\n",
              "      <td>Hospitalar</td>\n",
              "      <td>Eletiva</td>\n",
              "      <td>Enfermaria</td>\n",
              "      <td>1.0</td>\n",
              "      <td>Internacao</td>\n",
              "      <td>N201</td>\n",
              "      <td>Procedimentos</td>\n",
              "      <td>31102077</td>\n",
              "      <td>URETER</td>\n",
              "      <td>SISTEMA URINARIO</td>\n",
              "      <td>PROCED. CIRURGICOS E INVASIVOS</td>\n",
              "      <td>1</td>\n",
              "      <td>1</td>\n",
              "    </tr>\n",
              "  </tbody>\n",
              "</table>\n",
              "</div>\n",
              "      <button class=\"colab-df-convert\" onclick=\"convertToInteractive('df-b67270a3-6889-4369-ad0c-1e0bb9207cb4')\"\n",
              "              title=\"Convert this dataframe to an interactive table.\"\n",
              "              style=\"display:none;\">\n",
              "        \n",
              "  <svg xmlns=\"http://www.w3.org/2000/svg\" height=\"24px\"viewBox=\"0 0 24 24\"\n",
              "       width=\"24px\">\n",
              "    <path d=\"M0 0h24v24H0V0z\" fill=\"none\"/>\n",
              "    <path d=\"M18.56 5.44l.94 2.06.94-2.06 2.06-.94-2.06-.94-.94-2.06-.94 2.06-2.06.94zm-11 1L8.5 8.5l.94-2.06 2.06-.94-2.06-.94L8.5 2.5l-.94 2.06-2.06.94zm10 10l.94 2.06.94-2.06 2.06-.94-2.06-.94-.94-2.06-.94 2.06-2.06.94z\"/><path d=\"M17.41 7.96l-1.37-1.37c-.4-.4-.92-.59-1.43-.59-.52 0-1.04.2-1.43.59L10.3 9.45l-7.72 7.72c-.78.78-.78 2.05 0 2.83L4 21.41c.39.39.9.59 1.41.59.51 0 1.02-.2 1.41-.59l7.78-7.78 2.81-2.81c.8-.78.8-2.07 0-2.86zM5.41 20L4 18.59l7.72-7.72 1.47 1.35L5.41 20z\"/>\n",
              "  </svg>\n",
              "      </button>\n",
              "      \n",
              "  <style>\n",
              "    .colab-df-container {\n",
              "      display:flex;\n",
              "      flex-wrap:wrap;\n",
              "      gap: 12px;\n",
              "    }\n",
              "\n",
              "    .colab-df-convert {\n",
              "      background-color: #E8F0FE;\n",
              "      border: none;\n",
              "      border-radius: 50%;\n",
              "      cursor: pointer;\n",
              "      display: none;\n",
              "      fill: #1967D2;\n",
              "      height: 32px;\n",
              "      padding: 0 0 0 0;\n",
              "      width: 32px;\n",
              "    }\n",
              "\n",
              "    .colab-df-convert:hover {\n",
              "      background-color: #E2EBFA;\n",
              "      box-shadow: 0px 1px 2px rgba(60, 64, 67, 0.3), 0px 1px 3px 1px rgba(60, 64, 67, 0.15);\n",
              "      fill: #174EA6;\n",
              "    }\n",
              "\n",
              "    [theme=dark] .colab-df-convert {\n",
              "      background-color: #3B4455;\n",
              "      fill: #D2E3FC;\n",
              "    }\n",
              "\n",
              "    [theme=dark] .colab-df-convert:hover {\n",
              "      background-color: #434B5C;\n",
              "      box-shadow: 0px 1px 3px 1px rgba(0, 0, 0, 0.15);\n",
              "      filter: drop-shadow(0px 1px 2px rgba(0, 0, 0, 0.3));\n",
              "      fill: #FFFFFF;\n",
              "    }\n",
              "  </style>\n",
              "\n",
              "      <script>\n",
              "        const buttonEl =\n",
              "          document.querySelector('#df-b67270a3-6889-4369-ad0c-1e0bb9207cb4 button.colab-df-convert');\n",
              "        buttonEl.style.display =\n",
              "          google.colab.kernel.accessAllowed ? 'block' : 'none';\n",
              "\n",
              "        async function convertToInteractive(key) {\n",
              "          const element = document.querySelector('#df-b67270a3-6889-4369-ad0c-1e0bb9207cb4');\n",
              "          const dataTable =\n",
              "            await google.colab.kernel.invokeFunction('convertToInteractive',\n",
              "                                                     [key], {});\n",
              "          if (!dataTable) return;\n",
              "\n",
              "          const docLinkHtml = 'Like what you see? Visit the ' +\n",
              "            '<a target=\"_blank\" href=https://colab.research.google.com/notebooks/data_table.ipynb>data table notebook</a>'\n",
              "            + ' to learn more about interactive tables.';\n",
              "          element.innerHTML = '';\n",
              "          dataTable['output_type'] = 'display_data';\n",
              "          await google.colab.output.renderOutput(dataTable, element);\n",
              "          const docLink = document.createElement('div');\n",
              "          docLink.innerHTML = docLinkHtml;\n",
              "          element.appendChild(docLink);\n",
              "        }\n",
              "      </script>\n",
              "    </div>\n",
              "  </div>\n",
              "  "
            ]
          },
          "metadata": {},
          "execution_count": 104
        }
      ],
      "source": [
        "#Dados atualizado\n",
        "dados_teste.sample(1)"
      ]
    },
    {
      "cell_type": "markdown",
      "metadata": {
        "id": "k46cVPFB2tM3"
      },
      "source": [
        "#### Encoding features"
      ]
    },
    {
      "cell_type": "code",
      "execution_count": null,
      "metadata": {
        "id": "-Do3RKRvIu1v"
      },
      "outputs": [],
      "source": [
        "# Dropando features que não usaremos no modelo final\n",
        "dados_teste = dados_teste.drop(['DS_TIPO_PREST_SOLICITANTE','DS_TIPO_INTERNACAO','QT_SOLICITADA','DS_TIPO_PREST_SOLICITANTE','DS_INDICACAO_ACIDENTE','DS_REGIME_INTERNACAO', 'DS_TIPO_ACOMODACAO','DS_TIPO_ITEM','DS_TIPO_GUIA','DS_CARATER_ATENDIMENTO','QT_DIA_SOLICITADO','DS_CARATER_ATENDIMENTO','DS_GRUPO'],axis='columns')\n"
      ]
    },
    {
      "cell_type": "code",
      "source": [
        "# Features que usaremos no modelo final\n",
        "dados_teste.columns"
      ],
      "metadata": {
        "colab": {
          "base_uri": "https://localhost:8080/"
        },
        "id": "vWRf2HE9NblL",
        "outputId": "d939596f-9ebf-4407-c7e9-f85d5191339e"
      },
      "execution_count": null,
      "outputs": [
        {
          "output_type": "execute_result",
          "data": {
            "text/plain": [
              "Index(['NR_SEQ_REQUISICAO', 'DT_REQUISICAO', 'DT_NASCIMENTO',\n",
              "       'DS_TIPO_ATENDIMENTO', 'CD_CID', 'CD_ITEM', 'DS_CLASSE', 'DS_SUBGRUPO',\n",
              "       'DS_STATUS_ITEM'],\n",
              "      dtype='object')"
            ]
          },
          "metadata": {},
          "execution_count": 106
        }
      ]
    },
    {
      "cell_type": "markdown",
      "source": [
        "Encoding features usando o método Weight of Evidence"
      ],
      "metadata": {
        "id": "DYYoWVBjQNce"
      }
    },
    {
      "cell_type": "code",
      "execution_count": null,
      "metadata": {
        "id": "4GOj5bQhHUBe"
      },
      "outputs": [],
      "source": [
        "train_targets = dados_teste['DS_STATUS_ITEM']\n",
        "train_features = dados_teste.drop(['DS_STATUS_ITEM'], axis=1)\n",
        "\n",
        "#columns = [col for col in train_features.columns if col != 'NR_SEQ_REQUISICAO']\n",
        "columns = [col for col in train_features.columns]\n",
        "woe_encoder = ce.WOEEncoder(cols=columns)\n",
        "woe_encoded_train = woe_encoder.fit_transform(train_features[columns], train_targets).add_suffix('_woe')\n",
        "train_features = train_features.join(woe_encoded_train)\n",
        "train_features = train_features.join(train_targets)"
      ]
    },
    {
      "cell_type": "code",
      "execution_count": null,
      "metadata": {
        "colab": {
          "base_uri": "https://localhost:8080/"
        },
        "id": "KyQgnzgnVDF3",
        "outputId": "b871f639-99cf-4293-9150-b0826db0615f"
      },
      "outputs": [
        {
          "output_type": "execute_result",
          "data": {
            "text/plain": [
              "Index(['NR_SEQ_REQUISICAO', 'DT_REQUISICAO', 'DT_NASCIMENTO',\n",
              "       'DS_TIPO_ATENDIMENTO', 'CD_CID', 'CD_ITEM', 'DS_CLASSE', 'DS_SUBGRUPO',\n",
              "       'NR_SEQ_REQUISICAO_woe', 'DT_REQUISICAO_woe', 'DT_NASCIMENTO_woe',\n",
              "       'DS_TIPO_ATENDIMENTO_woe', 'CD_CID_woe', 'CD_ITEM_woe', 'DS_CLASSE_woe',\n",
              "       'DS_SUBGRUPO_woe', 'DS_STATUS_ITEM'],\n",
              "      dtype='object')"
            ]
          },
          "metadata": {},
          "execution_count": 108
        }
      ],
      "source": [
        "train_features.columns"
      ]
    },
    {
      "cell_type": "code",
      "execution_count": null,
      "metadata": {
        "id": "DYdlCW2xI30F"
      },
      "outputs": [],
      "source": [
        "#Escolhendo apenas as colunas transformadas\n",
        "data_enconding=train_features[['NR_SEQ_REQUISICAO_woe', 'DT_REQUISICAO_woe', 'DT_NASCIMENTO_woe',\n",
        "       'DS_TIPO_ATENDIMENTO_woe', 'CD_CID_woe', 'CD_ITEM_woe', 'DS_CLASSE_woe',\n",
        "       'DS_SUBGRUPO_woe', 'DS_STATUS_ITEM']]"
      ]
    },
    {
      "cell_type": "code",
      "execution_count": null,
      "metadata": {
        "colab": {
          "base_uri": "https://localhost:8080/"
        },
        "id": "dap2s7Cs-q4J",
        "outputId": "0e3e5825-4db9-4916-ae1f-ba038065320d"
      },
      "outputs": [
        {
          "output_type": "execute_result",
          "data": {
            "text/plain": [
              "(408485, 9)"
            ]
          },
          "metadata": {},
          "execution_count": 110
        }
      ],
      "source": [
        "data_numeric = data_enconding \n",
        "#Dimenção final\n",
        "data_numeric.shape"
      ]
    },
    {
      "cell_type": "code",
      "execution_count": null,
      "metadata": {
        "colab": {
          "base_uri": "https://localhost:8080/"
        },
        "id": "bb6G4AKE4EP6",
        "outputId": "383bcb7c-664b-42ba-e624-b6a2f7ba9b12"
      },
      "outputs": [
        {
          "output_type": "execute_result",
          "data": {
            "text/plain": [
              "       NR_SEQ_REQUISICAO_woe  DT_REQUISICAO_woe  DT_NASCIMENTO_woe  \\\n",
              "10699               0.000000          -0.127379          -1.750674   \n",
              "52975               2.423714          -0.287810           0.477803   \n",
              "\n",
              "       DS_TIPO_ATENDIMENTO_woe  CD_CID_woe  CD_ITEM_woe  DS_CLASSE_woe  \\\n",
              "10699                 0.560294    0.077612    -1.144253      -0.100772   \n",
              "52975                -0.319305   -0.977484     0.814276       0.757255   \n",
              "\n",
              "       DS_SUBGRUPO_woe  DS_STATUS_ITEM  \n",
              "10699        -0.100772               0  \n",
              "52975         0.757255               1  "
            ],
            "text/html": [
              "\n",
              "  <div id=\"df-1fc82f0a-6298-4434-b4d0-5296e448d90f\">\n",
              "    <div class=\"colab-df-container\">\n",
              "      <div>\n",
              "<style scoped>\n",
              "    .dataframe tbody tr th:only-of-type {\n",
              "        vertical-align: middle;\n",
              "    }\n",
              "\n",
              "    .dataframe tbody tr th {\n",
              "        vertical-align: top;\n",
              "    }\n",
              "\n",
              "    .dataframe thead th {\n",
              "        text-align: right;\n",
              "    }\n",
              "</style>\n",
              "<table border=\"1\" class=\"dataframe\">\n",
              "  <thead>\n",
              "    <tr style=\"text-align: right;\">\n",
              "      <th></th>\n",
              "      <th>NR_SEQ_REQUISICAO_woe</th>\n",
              "      <th>DT_REQUISICAO_woe</th>\n",
              "      <th>DT_NASCIMENTO_woe</th>\n",
              "      <th>DS_TIPO_ATENDIMENTO_woe</th>\n",
              "      <th>CD_CID_woe</th>\n",
              "      <th>CD_ITEM_woe</th>\n",
              "      <th>DS_CLASSE_woe</th>\n",
              "      <th>DS_SUBGRUPO_woe</th>\n",
              "      <th>DS_STATUS_ITEM</th>\n",
              "    </tr>\n",
              "  </thead>\n",
              "  <tbody>\n",
              "    <tr>\n",
              "      <th>10699</th>\n",
              "      <td>0.000000</td>\n",
              "      <td>-0.127379</td>\n",
              "      <td>-1.750674</td>\n",
              "      <td>0.560294</td>\n",
              "      <td>0.077612</td>\n",
              "      <td>-1.144253</td>\n",
              "      <td>-0.100772</td>\n",
              "      <td>-0.100772</td>\n",
              "      <td>0</td>\n",
              "    </tr>\n",
              "    <tr>\n",
              "      <th>52975</th>\n",
              "      <td>2.423714</td>\n",
              "      <td>-0.287810</td>\n",
              "      <td>0.477803</td>\n",
              "      <td>-0.319305</td>\n",
              "      <td>-0.977484</td>\n",
              "      <td>0.814276</td>\n",
              "      <td>0.757255</td>\n",
              "      <td>0.757255</td>\n",
              "      <td>1</td>\n",
              "    </tr>\n",
              "  </tbody>\n",
              "</table>\n",
              "</div>\n",
              "      <button class=\"colab-df-convert\" onclick=\"convertToInteractive('df-1fc82f0a-6298-4434-b4d0-5296e448d90f')\"\n",
              "              title=\"Convert this dataframe to an interactive table.\"\n",
              "              style=\"display:none;\">\n",
              "        \n",
              "  <svg xmlns=\"http://www.w3.org/2000/svg\" height=\"24px\"viewBox=\"0 0 24 24\"\n",
              "       width=\"24px\">\n",
              "    <path d=\"M0 0h24v24H0V0z\" fill=\"none\"/>\n",
              "    <path d=\"M18.56 5.44l.94 2.06.94-2.06 2.06-.94-2.06-.94-.94-2.06-.94 2.06-2.06.94zm-11 1L8.5 8.5l.94-2.06 2.06-.94-2.06-.94L8.5 2.5l-.94 2.06-2.06.94zm10 10l.94 2.06.94-2.06 2.06-.94-2.06-.94-.94-2.06-.94 2.06-2.06.94z\"/><path d=\"M17.41 7.96l-1.37-1.37c-.4-.4-.92-.59-1.43-.59-.52 0-1.04.2-1.43.59L10.3 9.45l-7.72 7.72c-.78.78-.78 2.05 0 2.83L4 21.41c.39.39.9.59 1.41.59.51 0 1.02-.2 1.41-.59l7.78-7.78 2.81-2.81c.8-.78.8-2.07 0-2.86zM5.41 20L4 18.59l7.72-7.72 1.47 1.35L5.41 20z\"/>\n",
              "  </svg>\n",
              "      </button>\n",
              "      \n",
              "  <style>\n",
              "    .colab-df-container {\n",
              "      display:flex;\n",
              "      flex-wrap:wrap;\n",
              "      gap: 12px;\n",
              "    }\n",
              "\n",
              "    .colab-df-convert {\n",
              "      background-color: #E8F0FE;\n",
              "      border: none;\n",
              "      border-radius: 50%;\n",
              "      cursor: pointer;\n",
              "      display: none;\n",
              "      fill: #1967D2;\n",
              "      height: 32px;\n",
              "      padding: 0 0 0 0;\n",
              "      width: 32px;\n",
              "    }\n",
              "\n",
              "    .colab-df-convert:hover {\n",
              "      background-color: #E2EBFA;\n",
              "      box-shadow: 0px 1px 2px rgba(60, 64, 67, 0.3), 0px 1px 3px 1px rgba(60, 64, 67, 0.15);\n",
              "      fill: #174EA6;\n",
              "    }\n",
              "\n",
              "    [theme=dark] .colab-df-convert {\n",
              "      background-color: #3B4455;\n",
              "      fill: #D2E3FC;\n",
              "    }\n",
              "\n",
              "    [theme=dark] .colab-df-convert:hover {\n",
              "      background-color: #434B5C;\n",
              "      box-shadow: 0px 1px 3px 1px rgba(0, 0, 0, 0.15);\n",
              "      filter: drop-shadow(0px 1px 2px rgba(0, 0, 0, 0.3));\n",
              "      fill: #FFFFFF;\n",
              "    }\n",
              "  </style>\n",
              "\n",
              "      <script>\n",
              "        const buttonEl =\n",
              "          document.querySelector('#df-1fc82f0a-6298-4434-b4d0-5296e448d90f button.colab-df-convert');\n",
              "        buttonEl.style.display =\n",
              "          google.colab.kernel.accessAllowed ? 'block' : 'none';\n",
              "\n",
              "        async function convertToInteractive(key) {\n",
              "          const element = document.querySelector('#df-1fc82f0a-6298-4434-b4d0-5296e448d90f');\n",
              "          const dataTable =\n",
              "            await google.colab.kernel.invokeFunction('convertToInteractive',\n",
              "                                                     [key], {});\n",
              "          if (!dataTable) return;\n",
              "\n",
              "          const docLinkHtml = 'Like what you see? Visit the ' +\n",
              "            '<a target=\"_blank\" href=https://colab.research.google.com/notebooks/data_table.ipynb>data table notebook</a>'\n",
              "            + ' to learn more about interactive tables.';\n",
              "          element.innerHTML = '';\n",
              "          dataTable['output_type'] = 'display_data';\n",
              "          await google.colab.output.renderOutput(dataTable, element);\n",
              "          const docLink = document.createElement('div');\n",
              "          docLink.innerHTML = docLinkHtml;\n",
              "          element.appendChild(docLink);\n",
              "        }\n",
              "      </script>\n",
              "    </div>\n",
              "  </div>\n",
              "  "
            ]
          },
          "metadata": {},
          "execution_count": 111
        }
      ],
      "source": [
        "data_numeric.sample(2)"
      ]
    },
    {
      "cell_type": "markdown",
      "metadata": {
        "id": "s0zlpak-4Zak"
      },
      "source": [
        "#### Modelo de classificação\n",
        "Aqui balanceamos e separamos os dados para a criação o modelo de classificação\n"
      ]
    },
    {
      "cell_type": "code",
      "execution_count": null,
      "metadata": {
        "colab": {
          "base_uri": "https://localhost:8080/"
        },
        "id": "Ff4zCwCAQeIJ",
        "outputId": "9de1f297-849c-430f-dd0f-59f84c2a19a8"
      },
      "outputs": [
        {
          "output_type": "stream",
          "name": "stdout",
          "text": [
            "0    283089\n",
            "1    125396\n",
            "Name: DS_STATUS_ITEM, dtype: int64\n",
            "0    283089\n",
            "1    283089\n",
            "Name: DS_STATUS_ITEM, dtype: int64\n"
          ]
        }
      ],
      "source": [
        "#Balanceando as classes usando Random Over Sampler\n",
        "\n",
        "print(data_numeric['DS_STATUS_ITEM'].value_counts()) #atual balanco dos dados \n",
        "\n",
        "rus = RandomOverSampler(random_state=0)\n",
        "X_resampled, y_resampled = rus.fit_resample(data_numeric.drop(columns=['DS_STATUS_ITEM']), data_numeric['DS_STATUS_ITEM'])\n",
        "data_numeric = pd.concat([X_resampled, y_resampled], axis='columns')\n",
        "\n",
        "print(data_numeric['DS_STATUS_ITEM'].value_counts()) #novo balanco dos dados"
      ]
    },
    {
      "cell_type": "code",
      "source": [
        "# Colunas final\n",
        "data_numeric.columns"
      ],
      "metadata": {
        "colab": {
          "base_uri": "https://localhost:8080/"
        },
        "id": "Sgb0aIbbXwiG",
        "outputId": "1bbc8bc8-4302-49d2-e768-4c3f7ced624b"
      },
      "execution_count": null,
      "outputs": [
        {
          "output_type": "execute_result",
          "data": {
            "text/plain": [
              "Index(['NR_SEQ_REQUISICAO_woe', 'DT_REQUISICAO_woe', 'DT_NASCIMENTO_woe',\n",
              "       'DS_TIPO_ATENDIMENTO_woe', 'CD_CID_woe', 'CD_ITEM_woe', 'DS_CLASSE_woe',\n",
              "       'DS_SUBGRUPO_woe', 'DS_STATUS_ITEM'],\n",
              "      dtype='object')"
            ]
          },
          "metadata": {},
          "execution_count": 113
        }
      ]
    },
    {
      "cell_type": "code",
      "source": [
        "#Dividindo todo o conjunto de dados para ser treinado e ser usado na classificação final do Kaggle\n",
        "target_cl=data_numeric['DS_STATUS_ITEM']\n",
        "features_cl=data_numeric[['NR_SEQ_REQUISICAO_woe', 'DT_REQUISICAO_woe', 'DT_NASCIMENTO_woe',\n",
        "       'DS_TIPO_ATENDIMENTO_woe', 'CD_CID_woe', 'CD_ITEM_woe', 'DS_CLASSE_woe',\n",
        "       'DS_SUBGRUPO_woe']]"
      ],
      "metadata": {
        "id": "NKIsyBMZXp-T"
      },
      "execution_count": null,
      "outputs": []
    },
    {
      "cell_type": "code",
      "execution_count": null,
      "metadata": {
        "id": "AzpZ01zr2o2b"
      },
      "outputs": [],
      "source": [
        "#Dividindo entre data train e data test para ser usado em testes\n",
        "X_train, X_test, y_train, y_test = train_test_sfplit(data_numeric.drop(columns=['DS_STATUS_ITEM']), data_numeric['DS_STATUS_ITEM'], test_size=0.2, random_state=123) # 60% para treino e 40% para teste e validação"
      ]
    },
    {
      "cell_type": "markdown",
      "metadata": {
        "id": "LNFPCVgS32lA"
      },
      "source": [
        "**RandonForest**\n",
        "\n",
        "---\n",
        "\n",
        "\n",
        "Após alguns comparativos entre algoritmos de classificação, o RandonForest foi o escolhido devido ao seu bom desempenho nos testes e sua capacidade de minimizar overfitting"
      ]
    },
    {
      "cell_type": "markdown",
      "source": [
        "Usando o split para realizar o treino e teste"
      ],
      "metadata": {
        "id": "UkWUJFclSW4P"
      }
    },
    {
      "cell_type": "code",
      "source": [
        "# Usando X_train, X_test, y_train, y_test \n",
        "classifier_rf_teste = RandomForestClassifier(max_depth=5, min_samples_leaf=1,min_samples_split=2, n_estimators=100,\n",
        "                       n_jobs=-1, random_state=0, oob_score=True)\n",
        "classifier_rf_teste.fit(X_train, y_train)"
      ],
      "metadata": {
        "colab": {
          "base_uri": "https://localhost:8080/"
        },
        "id": "lFkl8ED0R9gt",
        "outputId": "0cb7b767-7a8f-42a0-9940-9d2dd5ef7b44"
      },
      "execution_count": null,
      "outputs": [
        {
          "output_type": "execute_result",
          "data": {
            "text/plain": [
              "RandomForestClassifier(max_depth=5, n_jobs=-1, oob_score=True, random_state=0)"
            ]
          },
          "metadata": {},
          "execution_count": 116
        }
      ]
    },
    {
      "cell_type": "code",
      "execution_count": null,
      "metadata": {
        "colab": {
          "base_uri": "https://localhost:8080/"
        },
        "id": "pZurHO3Q4K-j",
        "outputId": "e0a02fff-d20d-4264-e5ab-e02d7fb413dd"
      },
      "outputs": [
        {
          "output_type": "stream",
          "name": "stdout",
          "text": [
            "              precision    recall  f1-score   support\n",
            "\n",
            "           0       0.87      0.93      0.90     56607\n",
            "           1       0.92      0.86      0.89     56629\n",
            "\n",
            "    accuracy                           0.89    113236\n",
            "   macro avg       0.90      0.89      0.89    113236\n",
            "weighted avg       0.90      0.89      0.89    113236\n",
            "\n",
            "0.8932994201696498\n",
            "0.8934328474769048\n",
            "(array([0, 1]), array([60531, 52705]))\n"
          ]
        }
      ],
      "source": [
        "y_pred = classifier_rf_teste.predict(X_test)\n",
        "\n",
        "print(classification_report(y_test, y_pred))\n",
        "print(f1_score(y_test, y_pred, average='macro')) #f1\n",
        "print(roc_auc_score(y_test, y_pred)) #roc\n",
        "print(np.unique(y_pred, return_counts=True))"
      ]
    },
    {
      "cell_type": "code",
      "source": [
        "for i,v in enumerate(classifier_rf_teste.feature_importances_):\n",
        "\tprint(X_train.columns[i],': score: %.5f'%v)"
      ],
      "metadata": {
        "id": "EgQku-ZiI_fu",
        "colab": {
          "base_uri": "https://localhost:8080/"
        },
        "outputId": "53603060-81e5-4be1-b9b0-5a22675f0cbd"
      },
      "execution_count": null,
      "outputs": [
        {
          "output_type": "stream",
          "name": "stdout",
          "text": [
            "NR_SEQ_REQUISICAO_woe : score: 0.69395\n",
            "DT_REQUISICAO_woe : score: 0.02351\n",
            "DT_NASCIMENTO_woe : score: 0.17152\n",
            "DS_TIPO_ATENDIMENTO_woe : score: 0.00380\n",
            "CD_CID_woe : score: 0.01400\n",
            "CD_ITEM_woe : score: 0.07565\n",
            "DS_CLASSE_woe : score: 0.01322\n",
            "DS_SUBGRUPO_woe : score: 0.00434\n"
          ]
        }
      ]
    },
    {
      "cell_type": "markdown",
      "source": [
        "Treino final para ser usado no kaggle"
      ],
      "metadata": {
        "id": "hSFztoBTVrMz"
      }
    },
    {
      "cell_type": "code",
      "execution_count": null,
      "metadata": {
        "colab": {
          "base_uri": "https://localhost:8080/"
        },
        "id": "cQbjSMVc35wo",
        "outputId": "110c5e05-9c24-43c5-89fd-c600503dda1a"
      },
      "outputs": [
        {
          "output_type": "execute_result",
          "data": {
            "text/plain": [
              "RandomForestClassifier(max_depth=5, n_jobs=-1, oob_score=True, random_state=0)"
            ]
          },
          "metadata": {},
          "execution_count": 121
        }
      ],
      "source": [
        "# Usando todo conjunto de dados para ser usado no kaggle\n",
        "classifier_rf = RandomForestClassifier(max_depth=5, min_samples_leaf=1,min_samples_split=2, n_estimators=100,\n",
        "                       n_jobs=-1, random_state=0, oob_score=True)\n",
        "classifier_rf.fit(features_cl, target_cl)"
      ]
    },
    {
      "cell_type": "markdown",
      "metadata": {
        "id": "Bp5Od8WUboIe"
      },
      "source": [
        "#### Comparando modelos"
      ]
    },
    {
      "cell_type": "code",
      "execution_count": null,
      "metadata": {
        "colab": {
          "base_uri": "https://localhost:8080/",
          "height": 1000
        },
        "id": "a_B0kuJQh3IH",
        "outputId": "7e63ee51-ef52-4e85-f5ed-c8a741f96b29"
      },
      "outputs": [
        {
          "data": {
            "text/html": [
              "\n",
              "  <div id=\"df-f633c5ba-3719-412d-890e-832a58f0edda\">\n",
              "    <div class=\"colab-df-container\">\n",
              "      <div>\n",
              "<style scoped>\n",
              "    .dataframe tbody tr th:only-of-type {\n",
              "        vertical-align: middle;\n",
              "    }\n",
              "\n",
              "    .dataframe tbody tr th {\n",
              "        vertical-align: top;\n",
              "    }\n",
              "\n",
              "    .dataframe thead th {\n",
              "        text-align: right;\n",
              "    }\n",
              "</style>\n",
              "<table border=\"1\" class=\"dataframe\">\n",
              "  <thead>\n",
              "    <tr style=\"text-align: right;\">\n",
              "      <th></th>\n",
              "      <th>Description</th>\n",
              "      <th>Value</th>\n",
              "    </tr>\n",
              "  </thead>\n",
              "  <tbody>\n",
              "    <tr>\n",
              "      <th>0</th>\n",
              "      <td>session_id</td>\n",
              "      <td>7135</td>\n",
              "    </tr>\n",
              "    <tr>\n",
              "      <th>1</th>\n",
              "      <td>Target</td>\n",
              "      <td>DS_STATUS_ITEM</td>\n",
              "    </tr>\n",
              "    <tr>\n",
              "      <th>2</th>\n",
              "      <td>Target Type</td>\n",
              "      <td>Binary</td>\n",
              "    </tr>\n",
              "    <tr>\n",
              "      <th>3</th>\n",
              "      <td>Label Encoded</td>\n",
              "      <td>None</td>\n",
              "    </tr>\n",
              "    <tr>\n",
              "      <th>4</th>\n",
              "      <td>Original Data</td>\n",
              "      <td>(538078, 15)</td>\n",
              "    </tr>\n",
              "    <tr>\n",
              "      <th>5</th>\n",
              "      <td>Missing Values</td>\n",
              "      <td>False</td>\n",
              "    </tr>\n",
              "    <tr>\n",
              "      <th>6</th>\n",
              "      <td>Numeric Features</td>\n",
              "      <td>12</td>\n",
              "    </tr>\n",
              "    <tr>\n",
              "      <th>7</th>\n",
              "      <td>Categorical Features</td>\n",
              "      <td>2</td>\n",
              "    </tr>\n",
              "    <tr>\n",
              "      <th>8</th>\n",
              "      <td>Ordinal Features</td>\n",
              "      <td>False</td>\n",
              "    </tr>\n",
              "    <tr>\n",
              "      <th>9</th>\n",
              "      <td>High Cardinality Features</td>\n",
              "      <td>False</td>\n",
              "    </tr>\n",
              "    <tr>\n",
              "      <th>10</th>\n",
              "      <td>High Cardinality Method</td>\n",
              "      <td>None</td>\n",
              "    </tr>\n",
              "    <tr>\n",
              "      <th>11</th>\n",
              "      <td>Transformed Train Set</td>\n",
              "      <td>(376654, 14)</td>\n",
              "    </tr>\n",
              "    <tr>\n",
              "      <th>12</th>\n",
              "      <td>Transformed Test Set</td>\n",
              "      <td>(161424, 14)</td>\n",
              "    </tr>\n",
              "    <tr>\n",
              "      <th>13</th>\n",
              "      <td>Shuffle Train-Test</td>\n",
              "      <td>True</td>\n",
              "    </tr>\n",
              "    <tr>\n",
              "      <th>14</th>\n",
              "      <td>Stratify Train-Test</td>\n",
              "      <td>False</td>\n",
              "    </tr>\n",
              "    <tr>\n",
              "      <th>15</th>\n",
              "      <td>Fold Generator</td>\n",
              "      <td>StratifiedKFold</td>\n",
              "    </tr>\n",
              "    <tr>\n",
              "      <th>16</th>\n",
              "      <td>Fold Number</td>\n",
              "      <td>10</td>\n",
              "    </tr>\n",
              "    <tr>\n",
              "      <th>17</th>\n",
              "      <td>CPU Jobs</td>\n",
              "      <td>-1</td>\n",
              "    </tr>\n",
              "    <tr>\n",
              "      <th>18</th>\n",
              "      <td>Use GPU</td>\n",
              "      <td>False</td>\n",
              "    </tr>\n",
              "    <tr>\n",
              "      <th>19</th>\n",
              "      <td>Log Experiment</td>\n",
              "      <td>False</td>\n",
              "    </tr>\n",
              "    <tr>\n",
              "      <th>20</th>\n",
              "      <td>Experiment Name</td>\n",
              "      <td>clf-default-name</td>\n",
              "    </tr>\n",
              "    <tr>\n",
              "      <th>21</th>\n",
              "      <td>USI</td>\n",
              "      <td>1981</td>\n",
              "    </tr>\n",
              "    <tr>\n",
              "      <th>22</th>\n",
              "      <td>Imputation Type</td>\n",
              "      <td>simple</td>\n",
              "    </tr>\n",
              "    <tr>\n",
              "      <th>23</th>\n",
              "      <td>Iterative Imputation Iteration</td>\n",
              "      <td>None</td>\n",
              "    </tr>\n",
              "    <tr>\n",
              "      <th>24</th>\n",
              "      <td>Numeric Imputer</td>\n",
              "      <td>mean</td>\n",
              "    </tr>\n",
              "    <tr>\n",
              "      <th>25</th>\n",
              "      <td>Iterative Imputation Numeric Model</td>\n",
              "      <td>None</td>\n",
              "    </tr>\n",
              "    <tr>\n",
              "      <th>26</th>\n",
              "      <td>Categorical Imputer</td>\n",
              "      <td>constant</td>\n",
              "    </tr>\n",
              "    <tr>\n",
              "      <th>27</th>\n",
              "      <td>Iterative Imputation Categorical Model</td>\n",
              "      <td>None</td>\n",
              "    </tr>\n",
              "    <tr>\n",
              "      <th>28</th>\n",
              "      <td>Unknown Categoricals Handling</td>\n",
              "      <td>least_frequent</td>\n",
              "    </tr>\n",
              "    <tr>\n",
              "      <th>29</th>\n",
              "      <td>Normalize</td>\n",
              "      <td>False</td>\n",
              "    </tr>\n",
              "    <tr>\n",
              "      <th>30</th>\n",
              "      <td>Normalize Method</td>\n",
              "      <td>None</td>\n",
              "    </tr>\n",
              "    <tr>\n",
              "      <th>31</th>\n",
              "      <td>Transformation</td>\n",
              "      <td>False</td>\n",
              "    </tr>\n",
              "    <tr>\n",
              "      <th>32</th>\n",
              "      <td>Transformation Method</td>\n",
              "      <td>None</td>\n",
              "    </tr>\n",
              "    <tr>\n",
              "      <th>33</th>\n",
              "      <td>PCA</td>\n",
              "      <td>False</td>\n",
              "    </tr>\n",
              "    <tr>\n",
              "      <th>34</th>\n",
              "      <td>PCA Method</td>\n",
              "      <td>None</td>\n",
              "    </tr>\n",
              "    <tr>\n",
              "      <th>35</th>\n",
              "      <td>PCA Components</td>\n",
              "      <td>None</td>\n",
              "    </tr>\n",
              "    <tr>\n",
              "      <th>36</th>\n",
              "      <td>Ignore Low Variance</td>\n",
              "      <td>False</td>\n",
              "    </tr>\n",
              "    <tr>\n",
              "      <th>37</th>\n",
              "      <td>Combine Rare Levels</td>\n",
              "      <td>False</td>\n",
              "    </tr>\n",
              "    <tr>\n",
              "      <th>38</th>\n",
              "      <td>Rare Level Threshold</td>\n",
              "      <td>None</td>\n",
              "    </tr>\n",
              "    <tr>\n",
              "      <th>39</th>\n",
              "      <td>Numeric Binning</td>\n",
              "      <td>False</td>\n",
              "    </tr>\n",
              "    <tr>\n",
              "      <th>40</th>\n",
              "      <td>Remove Outliers</td>\n",
              "      <td>False</td>\n",
              "    </tr>\n",
              "    <tr>\n",
              "      <th>41</th>\n",
              "      <td>Outliers Threshold</td>\n",
              "      <td>None</td>\n",
              "    </tr>\n",
              "    <tr>\n",
              "      <th>42</th>\n",
              "      <td>Remove Multicollinearity</td>\n",
              "      <td>False</td>\n",
              "    </tr>\n",
              "    <tr>\n",
              "      <th>43</th>\n",
              "      <td>Multicollinearity Threshold</td>\n",
              "      <td>None</td>\n",
              "    </tr>\n",
              "    <tr>\n",
              "      <th>44</th>\n",
              "      <td>Remove Perfect Collinearity</td>\n",
              "      <td>True</td>\n",
              "    </tr>\n",
              "    <tr>\n",
              "      <th>45</th>\n",
              "      <td>Clustering</td>\n",
              "      <td>False</td>\n",
              "    </tr>\n",
              "    <tr>\n",
              "      <th>46</th>\n",
              "      <td>Clustering Iteration</td>\n",
              "      <td>None</td>\n",
              "    </tr>\n",
              "    <tr>\n",
              "      <th>47</th>\n",
              "      <td>Polynomial Features</td>\n",
              "      <td>False</td>\n",
              "    </tr>\n",
              "    <tr>\n",
              "      <th>48</th>\n",
              "      <td>Polynomial Degree</td>\n",
              "      <td>None</td>\n",
              "    </tr>\n",
              "    <tr>\n",
              "      <th>49</th>\n",
              "      <td>Trignometry Features</td>\n",
              "      <td>False</td>\n",
              "    </tr>\n",
              "    <tr>\n",
              "      <th>50</th>\n",
              "      <td>Polynomial Threshold</td>\n",
              "      <td>None</td>\n",
              "    </tr>\n",
              "    <tr>\n",
              "      <th>51</th>\n",
              "      <td>Group Features</td>\n",
              "      <td>False</td>\n",
              "    </tr>\n",
              "    <tr>\n",
              "      <th>52</th>\n",
              "      <td>Feature Selection</td>\n",
              "      <td>False</td>\n",
              "    </tr>\n",
              "    <tr>\n",
              "      <th>53</th>\n",
              "      <td>Feature Selection Method</td>\n",
              "      <td>classic</td>\n",
              "    </tr>\n",
              "    <tr>\n",
              "      <th>54</th>\n",
              "      <td>Features Selection Threshold</td>\n",
              "      <td>None</td>\n",
              "    </tr>\n",
              "    <tr>\n",
              "      <th>55</th>\n",
              "      <td>Feature Interaction</td>\n",
              "      <td>False</td>\n",
              "    </tr>\n",
              "    <tr>\n",
              "      <th>56</th>\n",
              "      <td>Feature Ratio</td>\n",
              "      <td>False</td>\n",
              "    </tr>\n",
              "    <tr>\n",
              "      <th>57</th>\n",
              "      <td>Interaction Threshold</td>\n",
              "      <td>None</td>\n",
              "    </tr>\n",
              "    <tr>\n",
              "      <th>58</th>\n",
              "      <td>Fix Imbalance</td>\n",
              "      <td>False</td>\n",
              "    </tr>\n",
              "    <tr>\n",
              "      <th>59</th>\n",
              "      <td>Fix Imbalance Method</td>\n",
              "      <td>SMOTE</td>\n",
              "    </tr>\n",
              "  </tbody>\n",
              "</table>\n",
              "</div>\n",
              "      <button class=\"colab-df-convert\" onclick=\"convertToInteractive('df-f633c5ba-3719-412d-890e-832a58f0edda')\"\n",
              "              title=\"Convert this dataframe to an interactive table.\"\n",
              "              style=\"display:none;\">\n",
              "        \n",
              "  <svg xmlns=\"http://www.w3.org/2000/svg\" height=\"24px\"viewBox=\"0 0 24 24\"\n",
              "       width=\"24px\">\n",
              "    <path d=\"M0 0h24v24H0V0z\" fill=\"none\"/>\n",
              "    <path d=\"M18.56 5.44l.94 2.06.94-2.06 2.06-.94-2.06-.94-.94-2.06-.94 2.06-2.06.94zm-11 1L8.5 8.5l.94-2.06 2.06-.94-2.06-.94L8.5 2.5l-.94 2.06-2.06.94zm10 10l.94 2.06.94-2.06 2.06-.94-2.06-.94-.94-2.06-.94 2.06-2.06.94z\"/><path d=\"M17.41 7.96l-1.37-1.37c-.4-.4-.92-.59-1.43-.59-.52 0-1.04.2-1.43.59L10.3 9.45l-7.72 7.72c-.78.78-.78 2.05 0 2.83L4 21.41c.39.39.9.59 1.41.59.51 0 1.02-.2 1.41-.59l7.78-7.78 2.81-2.81c.8-.78.8-2.07 0-2.86zM5.41 20L4 18.59l7.72-7.72 1.47 1.35L5.41 20z\"/>\n",
              "  </svg>\n",
              "      </button>\n",
              "      \n",
              "  <style>\n",
              "    .colab-df-container {\n",
              "      display:flex;\n",
              "      flex-wrap:wrap;\n",
              "      gap: 12px;\n",
              "    }\n",
              "\n",
              "    .colab-df-convert {\n",
              "      background-color: #E8F0FE;\n",
              "      border: none;\n",
              "      border-radius: 50%;\n",
              "      cursor: pointer;\n",
              "      display: none;\n",
              "      fill: #1967D2;\n",
              "      height: 32px;\n",
              "      padding: 0 0 0 0;\n",
              "      width: 32px;\n",
              "    }\n",
              "\n",
              "    .colab-df-convert:hover {\n",
              "      background-color: #E2EBFA;\n",
              "      box-shadow: 0px 1px 2px rgba(60, 64, 67, 0.3), 0px 1px 3px 1px rgba(60, 64, 67, 0.15);\n",
              "      fill: #174EA6;\n",
              "    }\n",
              "\n",
              "    [theme=dark] .colab-df-convert {\n",
              "      background-color: #3B4455;\n",
              "      fill: #D2E3FC;\n",
              "    }\n",
              "\n",
              "    [theme=dark] .colab-df-convert:hover {\n",
              "      background-color: #434B5C;\n",
              "      box-shadow: 0px 1px 3px 1px rgba(0, 0, 0, 0.15);\n",
              "      filter: drop-shadow(0px 1px 2px rgba(0, 0, 0, 0.3));\n",
              "      fill: #FFFFFF;\n",
              "    }\n",
              "  </style>\n",
              "\n",
              "      <script>\n",
              "        const buttonEl =\n",
              "          document.querySelector('#df-f633c5ba-3719-412d-890e-832a58f0edda button.colab-df-convert');\n",
              "        buttonEl.style.display =\n",
              "          google.colab.kernel.accessAllowed ? 'block' : 'none';\n",
              "\n",
              "        async function convertToInteractive(key) {\n",
              "          const element = document.querySelector('#df-f633c5ba-3719-412d-890e-832a58f0edda');\n",
              "          const dataTable =\n",
              "            await google.colab.kernel.invokeFunction('convertToInteractive',\n",
              "                                                     [key], {});\n",
              "          if (!dataTable) return;\n",
              "\n",
              "          const docLinkHtml = 'Like what you see? Visit the ' +\n",
              "            '<a target=\"_blank\" href=https://colab.research.google.com/notebooks/data_table.ipynb>data table notebook</a>'\n",
              "            + ' to learn more about interactive tables.';\n",
              "          element.innerHTML = '';\n",
              "          dataTable['output_type'] = 'display_data';\n",
              "          await google.colab.output.renderOutput(dataTable, element);\n",
              "          const docLink = document.createElement('div');\n",
              "          docLink.innerHTML = docLinkHtml;\n",
              "          element.appendChild(docLink);\n",
              "        }\n",
              "      </script>\n",
              "    </div>\n",
              "  </div>\n",
              "  "
            ],
            "text/plain": [
              "                               Description             Value\n",
              "0                               session_id              7135\n",
              "1                                   Target    DS_STATUS_ITEM\n",
              "2                              Target Type            Binary\n",
              "3                            Label Encoded              None\n",
              "4                            Original Data      (538078, 15)\n",
              "5                           Missing Values             False\n",
              "6                         Numeric Features                12\n",
              "7                     Categorical Features                 2\n",
              "8                         Ordinal Features             False\n",
              "9                High Cardinality Features             False\n",
              "10                 High Cardinality Method              None\n",
              "11                   Transformed Train Set      (376654, 14)\n",
              "12                    Transformed Test Set      (161424, 14)\n",
              "13                      Shuffle Train-Test              True\n",
              "14                     Stratify Train-Test             False\n",
              "15                          Fold Generator   StratifiedKFold\n",
              "16                             Fold Number                10\n",
              "17                                CPU Jobs                -1\n",
              "18                                 Use GPU             False\n",
              "19                          Log Experiment             False\n",
              "20                         Experiment Name  clf-default-name\n",
              "21                                     USI              1981\n",
              "22                         Imputation Type            simple\n",
              "23          Iterative Imputation Iteration              None\n",
              "24                         Numeric Imputer              mean\n",
              "25      Iterative Imputation Numeric Model              None\n",
              "26                     Categorical Imputer          constant\n",
              "27  Iterative Imputation Categorical Model              None\n",
              "28           Unknown Categoricals Handling    least_frequent\n",
              "29                               Normalize             False\n",
              "30                        Normalize Method              None\n",
              "31                          Transformation             False\n",
              "32                   Transformation Method              None\n",
              "33                                     PCA             False\n",
              "34                              PCA Method              None\n",
              "35                          PCA Components              None\n",
              "36                     Ignore Low Variance             False\n",
              "37                     Combine Rare Levels             False\n",
              "38                    Rare Level Threshold              None\n",
              "39                         Numeric Binning             False\n",
              "40                         Remove Outliers             False\n",
              "41                      Outliers Threshold              None\n",
              "42                Remove Multicollinearity             False\n",
              "43             Multicollinearity Threshold              None\n",
              "44             Remove Perfect Collinearity              True\n",
              "45                              Clustering             False\n",
              "46                    Clustering Iteration              None\n",
              "47                     Polynomial Features             False\n",
              "48                       Polynomial Degree              None\n",
              "49                    Trignometry Features             False\n",
              "50                    Polynomial Threshold              None\n",
              "51                          Group Features             False\n",
              "52                       Feature Selection             False\n",
              "53                Feature Selection Method           classic\n",
              "54            Features Selection Threshold              None\n",
              "55                     Feature Interaction             False\n",
              "56                           Feature Ratio             False\n",
              "57                   Interaction Threshold              None\n",
              "58                           Fix Imbalance             False\n",
              "59                    Fix Imbalance Method             SMOTE"
            ]
          },
          "metadata": {},
          "output_type": "display_data"
        }
      ],
      "source": [
        "s = setup(data_numeric, target = 'DS_STATUS_ITEM')"
      ]
    },
    {
      "cell_type": "code",
      "execution_count": null,
      "metadata": {
        "colab": {
          "base_uri": "https://localhost:8080/",
          "height": 551
        },
        "id": "3f9hiBlVcSz5",
        "outputId": "a8f85794-4145-4fea-b29a-e4d062ece298"
      },
      "outputs": [
        {
          "data": {
            "text/html": [
              "\n",
              "  <div id=\"df-9faad8f9-4dcf-4967-8ee2-1ee18a98779a\">\n",
              "    <div class=\"colab-df-container\">\n",
              "      <div>\n",
              "<style scoped>\n",
              "    .dataframe tbody tr th:only-of-type {\n",
              "        vertical-align: middle;\n",
              "    }\n",
              "\n",
              "    .dataframe tbody tr th {\n",
              "        vertical-align: top;\n",
              "    }\n",
              "\n",
              "    .dataframe thead th {\n",
              "        text-align: right;\n",
              "    }\n",
              "</style>\n",
              "<table border=\"1\" class=\"dataframe\">\n",
              "  <thead>\n",
              "    <tr style=\"text-align: right;\">\n",
              "      <th></th>\n",
              "      <th>Model</th>\n",
              "      <th>Accuracy</th>\n",
              "      <th>AUC</th>\n",
              "      <th>Recall</th>\n",
              "      <th>Prec.</th>\n",
              "      <th>F1</th>\n",
              "      <th>Kappa</th>\n",
              "      <th>MCC</th>\n",
              "      <th>TT (Sec)</th>\n",
              "    </tr>\n",
              "  </thead>\n",
              "  <tbody>\n",
              "    <tr>\n",
              "      <th>rf</th>\n",
              "      <td>Random Forest Classifier</td>\n",
              "      <td>0.9339</td>\n",
              "      <td>0.9838</td>\n",
              "      <td>0.9499</td>\n",
              "      <td>0.9205</td>\n",
              "      <td>0.9350</td>\n",
              "      <td>0.8678</td>\n",
              "      <td>0.8682</td>\n",
              "      <td>46.491</td>\n",
              "    </tr>\n",
              "    <tr>\n",
              "      <th>et</th>\n",
              "      <td>Extra Trees Classifier</td>\n",
              "      <td>0.9334</td>\n",
              "      <td>0.9773</td>\n",
              "      <td>0.9412</td>\n",
              "      <td>0.9269</td>\n",
              "      <td>0.9340</td>\n",
              "      <td>0.8669</td>\n",
              "      <td>0.8670</td>\n",
              "      <td>43.463</td>\n",
              "    </tr>\n",
              "    <tr>\n",
              "      <th>dt</th>\n",
              "      <td>Decision Tree Classifier</td>\n",
              "      <td>0.9248</td>\n",
              "      <td>0.9404</td>\n",
              "      <td>0.9417</td>\n",
              "      <td>0.9110</td>\n",
              "      <td>0.9261</td>\n",
              "      <td>0.8495</td>\n",
              "      <td>0.8500</td>\n",
              "      <td>1.910</td>\n",
              "    </tr>\n",
              "    <tr>\n",
              "      <th>catboost</th>\n",
              "      <td>CatBoost Classifier</td>\n",
              "      <td>0.9080</td>\n",
              "      <td>0.9774</td>\n",
              "      <td>0.9035</td>\n",
              "      <td>0.9118</td>\n",
              "      <td>0.9076</td>\n",
              "      <td>0.8159</td>\n",
              "      <td>0.8160</td>\n",
              "      <td>90.522</td>\n",
              "    </tr>\n",
              "    <tr>\n",
              "      <th>xgboost</th>\n",
              "      <td>Extreme Gradient Boosting</td>\n",
              "      <td>0.9057</td>\n",
              "      <td>0.9766</td>\n",
              "      <td>0.8990</td>\n",
              "      <td>0.9114</td>\n",
              "      <td>0.9052</td>\n",
              "      <td>0.8115</td>\n",
              "      <td>0.8116</td>\n",
              "      <td>44.241</td>\n",
              "    </tr>\n",
              "    <tr>\n",
              "      <th>knn</th>\n",
              "      <td>K Neighbors Classifier</td>\n",
              "      <td>0.9008</td>\n",
              "      <td>0.9642</td>\n",
              "      <td>0.9128</td>\n",
              "      <td>0.8915</td>\n",
              "      <td>0.9020</td>\n",
              "      <td>0.8015</td>\n",
              "      <td>0.8017</td>\n",
              "      <td>20.491</td>\n",
              "    </tr>\n",
              "    <tr>\n",
              "      <th>lightgbm</th>\n",
              "      <td>Light Gradient Boosting Machine</td>\n",
              "      <td>0.9006</td>\n",
              "      <td>0.9743</td>\n",
              "      <td>0.8912</td>\n",
              "      <td>0.9084</td>\n",
              "      <td>0.8997</td>\n",
              "      <td>0.8011</td>\n",
              "      <td>0.8013</td>\n",
              "      <td>4.153</td>\n",
              "    </tr>\n",
              "    <tr>\n",
              "      <th>gbc</th>\n",
              "      <td>Gradient Boosting Classifier</td>\n",
              "      <td>0.8954</td>\n",
              "      <td>0.9708</td>\n",
              "      <td>0.8871</td>\n",
              "      <td>0.9023</td>\n",
              "      <td>0.8946</td>\n",
              "      <td>0.7909</td>\n",
              "      <td>0.7910</td>\n",
              "      <td>47.273</td>\n",
              "    </tr>\n",
              "    <tr>\n",
              "      <th>ada</th>\n",
              "      <td>Ada Boost Classifier</td>\n",
              "      <td>0.8904</td>\n",
              "      <td>0.9681</td>\n",
              "      <td>0.8698</td>\n",
              "      <td>0.9073</td>\n",
              "      <td>0.8882</td>\n",
              "      <td>0.7808</td>\n",
              "      <td>0.7815</td>\n",
              "      <td>12.254</td>\n",
              "    </tr>\n",
              "    <tr>\n",
              "      <th>lr</th>\n",
              "      <td>Logistic Regression</td>\n",
              "      <td>0.8829</td>\n",
              "      <td>0.9629</td>\n",
              "      <td>0.8330</td>\n",
              "      <td>0.9255</td>\n",
              "      <td>0.8768</td>\n",
              "      <td>0.7657</td>\n",
              "      <td>0.7696</td>\n",
              "      <td>1.977</td>\n",
              "    </tr>\n",
              "    <tr>\n",
              "      <th>svm</th>\n",
              "      <td>SVM - Linear Kernel</td>\n",
              "      <td>0.8821</td>\n",
              "      <td>0.0000</td>\n",
              "      <td>0.8257</td>\n",
              "      <td>0.9310</td>\n",
              "      <td>0.8752</td>\n",
              "      <td>0.7643</td>\n",
              "      <td>0.7693</td>\n",
              "      <td>0.617</td>\n",
              "    </tr>\n",
              "    <tr>\n",
              "      <th>ridge</th>\n",
              "      <td>Ridge Classifier</td>\n",
              "      <td>0.8703</td>\n",
              "      <td>0.0000</td>\n",
              "      <td>0.7700</td>\n",
              "      <td>0.9635</td>\n",
              "      <td>0.8559</td>\n",
              "      <td>0.7406</td>\n",
              "      <td>0.7560</td>\n",
              "      <td>0.279</td>\n",
              "    </tr>\n",
              "    <tr>\n",
              "      <th>lda</th>\n",
              "      <td>Linear Discriminant Analysis</td>\n",
              "      <td>0.8703</td>\n",
              "      <td>0.9620</td>\n",
              "      <td>0.7700</td>\n",
              "      <td>0.9635</td>\n",
              "      <td>0.8559</td>\n",
              "      <td>0.7406</td>\n",
              "      <td>0.7560</td>\n",
              "      <td>1.001</td>\n",
              "    </tr>\n",
              "    <tr>\n",
              "      <th>qda</th>\n",
              "      <td>Quadratic Discriminant Analysis</td>\n",
              "      <td>0.8623</td>\n",
              "      <td>0.9373</td>\n",
              "      <td>0.8034</td>\n",
              "      <td>0.9109</td>\n",
              "      <td>0.8538</td>\n",
              "      <td>0.7246</td>\n",
              "      <td>0.7298</td>\n",
              "      <td>0.470</td>\n",
              "    </tr>\n",
              "    <tr>\n",
              "      <th>nb</th>\n",
              "      <td>Naive Bayes</td>\n",
              "      <td>0.8213</td>\n",
              "      <td>0.9076</td>\n",
              "      <td>0.7919</td>\n",
              "      <td>0.8417</td>\n",
              "      <td>0.8160</td>\n",
              "      <td>0.6427</td>\n",
              "      <td>0.6438</td>\n",
              "      <td>0.275</td>\n",
              "    </tr>\n",
              "    <tr>\n",
              "      <th>dummy</th>\n",
              "      <td>Dummy Classifier</td>\n",
              "      <td>0.5004</td>\n",
              "      <td>0.5000</td>\n",
              "      <td>1.0000</td>\n",
              "      <td>0.5004</td>\n",
              "      <td>0.6671</td>\n",
              "      <td>0.0000</td>\n",
              "      <td>0.0000</td>\n",
              "      <td>0.185</td>\n",
              "    </tr>\n",
              "  </tbody>\n",
              "</table>\n",
              "</div>\n",
              "      <button class=\"colab-df-convert\" onclick=\"convertToInteractive('df-9faad8f9-4dcf-4967-8ee2-1ee18a98779a')\"\n",
              "              title=\"Convert this dataframe to an interactive table.\"\n",
              "              style=\"display:none;\">\n",
              "        \n",
              "  <svg xmlns=\"http://www.w3.org/2000/svg\" height=\"24px\"viewBox=\"0 0 24 24\"\n",
              "       width=\"24px\">\n",
              "    <path d=\"M0 0h24v24H0V0z\" fill=\"none\"/>\n",
              "    <path d=\"M18.56 5.44l.94 2.06.94-2.06 2.06-.94-2.06-.94-.94-2.06-.94 2.06-2.06.94zm-11 1L8.5 8.5l.94-2.06 2.06-.94-2.06-.94L8.5 2.5l-.94 2.06-2.06.94zm10 10l.94 2.06.94-2.06 2.06-.94-2.06-.94-.94-2.06-.94 2.06-2.06.94z\"/><path d=\"M17.41 7.96l-1.37-1.37c-.4-.4-.92-.59-1.43-.59-.52 0-1.04.2-1.43.59L10.3 9.45l-7.72 7.72c-.78.78-.78 2.05 0 2.83L4 21.41c.39.39.9.59 1.41.59.51 0 1.02-.2 1.41-.59l7.78-7.78 2.81-2.81c.8-.78.8-2.07 0-2.86zM5.41 20L4 18.59l7.72-7.72 1.47 1.35L5.41 20z\"/>\n",
              "  </svg>\n",
              "      </button>\n",
              "      \n",
              "  <style>\n",
              "    .colab-df-container {\n",
              "      display:flex;\n",
              "      flex-wrap:wrap;\n",
              "      gap: 12px;\n",
              "    }\n",
              "\n",
              "    .colab-df-convert {\n",
              "      background-color: #E8F0FE;\n",
              "      border: none;\n",
              "      border-radius: 50%;\n",
              "      cursor: pointer;\n",
              "      display: none;\n",
              "      fill: #1967D2;\n",
              "      height: 32px;\n",
              "      padding: 0 0 0 0;\n",
              "      width: 32px;\n",
              "    }\n",
              "\n",
              "    .colab-df-convert:hover {\n",
              "      background-color: #E2EBFA;\n",
              "      box-shadow: 0px 1px 2px rgba(60, 64, 67, 0.3), 0px 1px 3px 1px rgba(60, 64, 67, 0.15);\n",
              "      fill: #174EA6;\n",
              "    }\n",
              "\n",
              "    [theme=dark] .colab-df-convert {\n",
              "      background-color: #3B4455;\n",
              "      fill: #D2E3FC;\n",
              "    }\n",
              "\n",
              "    [theme=dark] .colab-df-convert:hover {\n",
              "      background-color: #434B5C;\n",
              "      box-shadow: 0px 1px 3px 1px rgba(0, 0, 0, 0.15);\n",
              "      filter: drop-shadow(0px 1px 2px rgba(0, 0, 0, 0.3));\n",
              "      fill: #FFFFFF;\n",
              "    }\n",
              "  </style>\n",
              "\n",
              "      <script>\n",
              "        const buttonEl =\n",
              "          document.querySelector('#df-9faad8f9-4dcf-4967-8ee2-1ee18a98779a button.colab-df-convert');\n",
              "        buttonEl.style.display =\n",
              "          google.colab.kernel.accessAllowed ? 'block' : 'none';\n",
              "\n",
              "        async function convertToInteractive(key) {\n",
              "          const element = document.querySelector('#df-9faad8f9-4dcf-4967-8ee2-1ee18a98779a');\n",
              "          const dataTable =\n",
              "            await google.colab.kernel.invokeFunction('convertToInteractive',\n",
              "                                                     [key], {});\n",
              "          if (!dataTable) return;\n",
              "\n",
              "          const docLinkHtml = 'Like what you see? Visit the ' +\n",
              "            '<a target=\"_blank\" href=https://colab.research.google.com/notebooks/data_table.ipynb>data table notebook</a>'\n",
              "            + ' to learn more about interactive tables.';\n",
              "          element.innerHTML = '';\n",
              "          dataTable['output_type'] = 'display_data';\n",
              "          await google.colab.output.renderOutput(dataTable, element);\n",
              "          const docLink = document.createElement('div');\n",
              "          docLink.innerHTML = docLinkHtml;\n",
              "          element.appendChild(docLink);\n",
              "        }\n",
              "      </script>\n",
              "    </div>\n",
              "  </div>\n",
              "  "
            ],
            "text/plain": [
              "                                    Model  Accuracy     AUC  Recall   Prec.  \\\n",
              "rf               Random Forest Classifier    0.9339  0.9838  0.9499  0.9205   \n",
              "et                 Extra Trees Classifier    0.9334  0.9773  0.9412  0.9269   \n",
              "dt               Decision Tree Classifier    0.9248  0.9404  0.9417  0.9110   \n",
              "catboost              CatBoost Classifier    0.9080  0.9774  0.9035  0.9118   \n",
              "xgboost         Extreme Gradient Boosting    0.9057  0.9766  0.8990  0.9114   \n",
              "knn                K Neighbors Classifier    0.9008  0.9642  0.9128  0.8915   \n",
              "lightgbm  Light Gradient Boosting Machine    0.9006  0.9743  0.8912  0.9084   \n",
              "gbc          Gradient Boosting Classifier    0.8954  0.9708  0.8871  0.9023   \n",
              "ada                  Ada Boost Classifier    0.8904  0.9681  0.8698  0.9073   \n",
              "lr                    Logistic Regression    0.8829  0.9629  0.8330  0.9255   \n",
              "svm                   SVM - Linear Kernel    0.8821  0.0000  0.8257  0.9310   \n",
              "ridge                    Ridge Classifier    0.8703  0.0000  0.7700  0.9635   \n",
              "lda          Linear Discriminant Analysis    0.8703  0.9620  0.7700  0.9635   \n",
              "qda       Quadratic Discriminant Analysis    0.8623  0.9373  0.8034  0.9109   \n",
              "nb                            Naive Bayes    0.8213  0.9076  0.7919  0.8417   \n",
              "dummy                    Dummy Classifier    0.5004  0.5000  1.0000  0.5004   \n",
              "\n",
              "              F1   Kappa     MCC  TT (Sec)  \n",
              "rf        0.9350  0.8678  0.8682    46.491  \n",
              "et        0.9340  0.8669  0.8670    43.463  \n",
              "dt        0.9261  0.8495  0.8500     1.910  \n",
              "catboost  0.9076  0.8159  0.8160    90.522  \n",
              "xgboost   0.9052  0.8115  0.8116    44.241  \n",
              "knn       0.9020  0.8015  0.8017    20.491  \n",
              "lightgbm  0.8997  0.8011  0.8013     4.153  \n",
              "gbc       0.8946  0.7909  0.7910    47.273  \n",
              "ada       0.8882  0.7808  0.7815    12.254  \n",
              "lr        0.8768  0.7657  0.7696     1.977  \n",
              "svm       0.8752  0.7643  0.7693     0.617  \n",
              "ridge     0.8559  0.7406  0.7560     0.279  \n",
              "lda       0.8559  0.7406  0.7560     1.001  \n",
              "qda       0.8538  0.7246  0.7298     0.470  \n",
              "nb        0.8160  0.6427  0.6438     0.275  \n",
              "dummy     0.6671  0.0000  0.0000     0.185  "
            ]
          },
          "metadata": {},
          "output_type": "display_data"
        }
      ],
      "source": [
        "best = compare_models()"
      ]
    },
    {
      "cell_type": "code",
      "source": [
        "for i,v in enumerate(classifier_rf.feature_importances_):\n",
        "\tprint(X_train.columns[i],': score: %.5f'%v)"
      ],
      "metadata": {
        "colab": {
          "base_uri": "https://localhost:8080/"
        },
        "id": "EjJ6QW1qMCwV",
        "outputId": "92c21df1-736f-4f2a-dbf8-bccfbdb66b33"
      },
      "execution_count": null,
      "outputs": [
        {
          "output_type": "stream",
          "name": "stdout",
          "text": [
            "NR_SEQ_REQUISICAO_woe : score: 0.73160\n",
            "DS_TIPO_GUIA_woe : score: 0.00411\n",
            "DT_NASCIMENTO_woe : score: 0.10817\n",
            "DS_TIPO_PREST_SOLICITANTE_woe : score: 0.00779\n",
            "DS_TIPO_INTERNACAO_woe : score: 0.00482\n",
            "DS_CARATER_ATENDIMENTO_woe : score: 0.00250\n",
            "QT_DIA_SOLICITADO_woe : score: 0.00448\n",
            "DS_TIPO_ATENDIMENTO_woe : score: 0.01163\n",
            "CD_CID_woe : score: 0.00853\n",
            "DS_TIPO_ITEM_woe : score: 0.00240\n",
            "CD_ITEM_woe : score: 0.08252\n",
            "DS_SUBGRUPO_woe : score: 0.01693\n",
            "DS_GRUPO_woe : score: 0.00688\n",
            "QT_SOLICITADA_woe : score: 0.00765\n"
          ]
        }
      ]
    },
    {
      "cell_type": "code",
      "execution_count": null,
      "metadata": {
        "colab": {
          "base_uri": "https://localhost:8080/",
          "height": 540,
          "referenced_widgets": [
            "b87e65ea4db74747ae3b51226775172e",
            "be9c10e5c6804092ba3e0bb1919abe8a",
            "44bfbbe9fbd045f099a425970b83dd81",
            "b8b63d61754a4cad96cf849dbf2dd0a1",
            "44ea02703e8841e889a149c80bd94670",
            "bb5d3d16794041a4ac459a8c3254d544",
            "60275fd749c74763a9128f0aa337453d"
          ]
        },
        "id": "X6ZclEUkcVGD",
        "outputId": "b2cfb2f7-3cfe-4fb2-ca1b-0571fa31512a"
      },
      "outputs": [
        {
          "data": {
            "application/vnd.jupyter.widget-view+json": {
              "model_id": "b87e65ea4db74747ae3b51226775172e",
              "version_major": 2,
              "version_minor": 0
            },
            "text/plain": [
              "interactive(children=(ToggleButtons(description='Plot Type:', icons=('',), options=(('Hyperparameters', 'param…"
            ]
          },
          "metadata": {},
          "output_type": "display_data"
        }
      ],
      "source": [
        "evaluate_model(best)"
      ]
    },
    {
      "cell_type": "markdown",
      "metadata": {
        "id": "e_jLbQvXN06q"
      },
      "source": [
        "#### Predição para o Kaggle\n",
        "aqui pegamos o dataset de teste para ser enviado ao Kaggle"
      ]
    },
    {
      "cell_type": "markdown",
      "source": [
        "**Lendo o datatest**"
      ],
      "metadata": {
        "id": "u5lV9AWPdnHl"
      }
    },
    {
      "cell_type": "code",
      "execution_count": null,
      "metadata": {
        "id": "Pi9iJj8gNyts"
      },
      "outputs": [],
      "source": [
        "data_teste = pd.read_csv('classificacao_binaria_test.csv',sep=';')"
      ]
    },
    {
      "cell_type": "markdown",
      "source": [
        "**Pré processamento**\n",
        "\n",
        "---\n",
        "\n",
        "\n",
        "aqui processamos o datatest com todas as etapas realizado no datatrain"
      ],
      "metadata": {
        "id": "QkqRfBZAZWCu"
      }
    },
    {
      "cell_type": "code",
      "execution_count": null,
      "metadata": {
        "id": "LBaYRbR5TTHL",
        "colab": {
          "base_uri": "https://localhost:8080/"
        },
        "outputId": "bd466a15-4f72-4ba6-b79e-a76489acc591"
      },
      "outputs": [
        {
          "output_type": "stream",
          "name": "stderr",
          "text": [
            "/usr/local/lib/python3.7/dist-packages/pandas/core/generic.py:6392: SettingWithCopyWarning: \n",
            "A value is trying to be set on a copy of a slice from a DataFrame\n",
            "\n",
            "See the caveats in the documentation: https://pandas.pydata.org/pandas-docs/stable/user_guide/indexing.html#returning-a-view-versus-a-copy\n",
            "  return self._update_inplace(result)\n",
            "/usr/local/lib/python3.7/dist-packages/ipykernel_launcher.py:22: SettingWithCopyWarning: \n",
            "A value is trying to be set on a copy of a slice from a DataFrame.\n",
            "Try using .loc[row_indexer,col_indexer] = value instead\n",
            "\n",
            "See the caveats in the documentation: https://pandas.pydata.org/pandas-docs/stable/user_guide/indexing.html#returning-a-view-versus-a-copy\n"
          ]
        }
      ],
      "source": [
        "#Dropando colunas que não usamos\n",
        "data_teste = data_teste.drop([\t'NR_SEQ_ITEM'\t,'NR_PRODUTO','DS_TIPO_SAIDA','DS_CBO','DS_INDICACAO_CLINICA','DS_ITEM'],axis='columns') \n",
        "\n",
        "data_t = data_teste\n",
        "\n",
        "\n",
        "limiar_exclusao = 0.2 \n",
        "limiar = int(data_t.shape[0] * (limiar_exclusao)) # calcula o limiar em função da quantidade de objetos do df\n",
        "data_t = data_t.dropna(axis='columns', how='any', thresh=limiar) \n",
        "\n",
        "\n",
        "\n",
        "data_treino = data_t\n",
        "\n",
        "# **                                                                      Tratando dados nulos e com muitas classes                                                                 **\n",
        "\n",
        "\n",
        "# Vimos que a maioria dos dados nulos para essa categoria vem do tipo de atendimento EXAMES, logo não necessita de internação\n",
        "data_treino['QT_DIA_SOLICITADO'].fillna(0, inplace=True)\n",
        "\n",
        "#Alterando a ordem de DT_NASCIMENTO para os que são mais melhos terem mais peso\n",
        "data_treino['DT_NASCIMENTO'] = data_treino['DT_NASCIMENTO'].apply(lambda x : -x)\n",
        "\n",
        "# Vimos que a maioria dos dados nulos para essa categoria vem do tipo de atendimento Guia de solicitacao SP/SADT, logo não necessita de internação, assim criamos uma nova categoria para isso.\n",
        "for feature in ['DS_TIPO_INTERNACAO','DS_TIPO_ACOMODACAO','DS_REGIME_INTERNACAO']:\n",
        "  data_treino[feature].fillna('Nao_Internado', inplace=True)\n",
        "\n",
        "# Vimos que todos os nulos de DS_TIPO_ATENDIMENTO são de iternação\n",
        "data_treino['DS_TIPO_ATENDIMENTO'].fillna('Internacao', inplace=True)  \n",
        " \n",
        "\n",
        "\n",
        "# **                                                                                 Encoding features                                                                               **\n",
        "data_treino = data_treino.drop(['DS_TIPO_PREST_SOLICITANTE','DS_TIPO_INTERNACAO','QT_SOLICITADA','DS_TIPO_PREST_SOLICITANTE','DS_INDICACAO_ACIDENTE','DS_REGIME_INTERNACAO', 'DS_TIPO_ACOMODACAO','DS_TIPO_ITEM','DS_TIPO_GUIA','DS_CARATER_ATENDIMENTO','QT_DIA_SOLICITADO','DS_CARATER_ATENDIMENTO','DS_GRUPO'],axis='columns')\n",
        "\n",
        "train_features = data_treino\n",
        "columns = [col for col in train_features.columns if col != 'Id']\n",
        "woe_encoded_train = woe_encoder.transform(train_features[columns]).add_suffix('_woe')\n",
        "train_features = train_features.join(woe_encoded_train)\n",
        "\n",
        "data_enconding=train_features[['NR_SEQ_REQUISICAO_woe', 'DT_REQUISICAO_woe', 'DT_NASCIMENTO_woe',\n",
        "       'DS_TIPO_ATENDIMENTO_woe', 'CD_CID_woe', 'CD_ITEM_woe', 'DS_CLASSE_woe',\n",
        "       'DS_SUBGRUPO_woe']]\n",
        "\n",
        "data_numeric_teste = data_enconding\n",
        "\n",
        "#Adicionando uma coluna com o index\n",
        "data_numeric_teste.insert(loc=0, column='Id', value= (np.arange(len(data_numeric_teste))+1 ) )"
      ]
    },
    {
      "cell_type": "code",
      "execution_count": null,
      "metadata": {
        "id": "vaPY-CCbcCaX",
        "colab": {
          "base_uri": "https://localhost:8080/"
        },
        "outputId": "4f71ff55-1ac4-458a-9343-be47bf0d1b6f"
      },
      "outputs": [
        {
          "output_type": "stream",
          "name": "stdout",
          "text": [
            "(103136, 8)\n"
          ]
        }
      ],
      "source": [
        "# serarando o ID das features de predição\n",
        "\n",
        "identificador =data_numeric_teste['Id']\n",
        "kaggle = data_numeric_teste.drop(['Id'],axis=1,) \n",
        "\n",
        "print(kaggle.shape) # dimenção pós processado"
      ]
    },
    {
      "cell_type": "code",
      "execution_count": null,
      "metadata": {
        "colab": {
          "base_uri": "https://localhost:8080/",
          "height": 81
        },
        "id": "yJpKr_HG1f4A",
        "outputId": "36f80eb4-755a-4c31-d50e-af27fbbb0d53"
      },
      "outputs": [
        {
          "output_type": "execute_result",
          "data": {
            "text/plain": [
              "       NR_SEQ_REQUISICAO_woe  DT_REQUISICAO_woe  DT_NASCIMENTO_woe  \\\n",
              "14771               0.932059           0.487335           2.020685   \n",
              "\n",
              "       DS_TIPO_ATENDIMENTO_woe  CD_CID_woe  CD_ITEM_woe  DS_CLASSE_woe  \\\n",
              "14771                 0.331292    0.077612     1.416451       0.224902   \n",
              "\n",
              "       DS_SUBGRUPO_woe  \n",
              "14771         0.445228  "
            ],
            "text/html": [
              "\n",
              "  <div id=\"df-74412188-5753-4895-88ab-6af57364f101\">\n",
              "    <div class=\"colab-df-container\">\n",
              "      <div>\n",
              "<style scoped>\n",
              "    .dataframe tbody tr th:only-of-type {\n",
              "        vertical-align: middle;\n",
              "    }\n",
              "\n",
              "    .dataframe tbody tr th {\n",
              "        vertical-align: top;\n",
              "    }\n",
              "\n",
              "    .dataframe thead th {\n",
              "        text-align: right;\n",
              "    }\n",
              "</style>\n",
              "<table border=\"1\" class=\"dataframe\">\n",
              "  <thead>\n",
              "    <tr style=\"text-align: right;\">\n",
              "      <th></th>\n",
              "      <th>NR_SEQ_REQUISICAO_woe</th>\n",
              "      <th>DT_REQUISICAO_woe</th>\n",
              "      <th>DT_NASCIMENTO_woe</th>\n",
              "      <th>DS_TIPO_ATENDIMENTO_woe</th>\n",
              "      <th>CD_CID_woe</th>\n",
              "      <th>CD_ITEM_woe</th>\n",
              "      <th>DS_CLASSE_woe</th>\n",
              "      <th>DS_SUBGRUPO_woe</th>\n",
              "    </tr>\n",
              "  </thead>\n",
              "  <tbody>\n",
              "    <tr>\n",
              "      <th>14771</th>\n",
              "      <td>0.932059</td>\n",
              "      <td>0.487335</td>\n",
              "      <td>2.020685</td>\n",
              "      <td>0.331292</td>\n",
              "      <td>0.077612</td>\n",
              "      <td>1.416451</td>\n",
              "      <td>0.224902</td>\n",
              "      <td>0.445228</td>\n",
              "    </tr>\n",
              "  </tbody>\n",
              "</table>\n",
              "</div>\n",
              "      <button class=\"colab-df-convert\" onclick=\"convertToInteractive('df-74412188-5753-4895-88ab-6af57364f101')\"\n",
              "              title=\"Convert this dataframe to an interactive table.\"\n",
              "              style=\"display:none;\">\n",
              "        \n",
              "  <svg xmlns=\"http://www.w3.org/2000/svg\" height=\"24px\"viewBox=\"0 0 24 24\"\n",
              "       width=\"24px\">\n",
              "    <path d=\"M0 0h24v24H0V0z\" fill=\"none\"/>\n",
              "    <path d=\"M18.56 5.44l.94 2.06.94-2.06 2.06-.94-2.06-.94-.94-2.06-.94 2.06-2.06.94zm-11 1L8.5 8.5l.94-2.06 2.06-.94-2.06-.94L8.5 2.5l-.94 2.06-2.06.94zm10 10l.94 2.06.94-2.06 2.06-.94-2.06-.94-.94-2.06-.94 2.06-2.06.94z\"/><path d=\"M17.41 7.96l-1.37-1.37c-.4-.4-.92-.59-1.43-.59-.52 0-1.04.2-1.43.59L10.3 9.45l-7.72 7.72c-.78.78-.78 2.05 0 2.83L4 21.41c.39.39.9.59 1.41.59.51 0 1.02-.2 1.41-.59l7.78-7.78 2.81-2.81c.8-.78.8-2.07 0-2.86zM5.41 20L4 18.59l7.72-7.72 1.47 1.35L5.41 20z\"/>\n",
              "  </svg>\n",
              "      </button>\n",
              "      \n",
              "  <style>\n",
              "    .colab-df-container {\n",
              "      display:flex;\n",
              "      flex-wrap:wrap;\n",
              "      gap: 12px;\n",
              "    }\n",
              "\n",
              "    .colab-df-convert {\n",
              "      background-color: #E8F0FE;\n",
              "      border: none;\n",
              "      border-radius: 50%;\n",
              "      cursor: pointer;\n",
              "      display: none;\n",
              "      fill: #1967D2;\n",
              "      height: 32px;\n",
              "      padding: 0 0 0 0;\n",
              "      width: 32px;\n",
              "    }\n",
              "\n",
              "    .colab-df-convert:hover {\n",
              "      background-color: #E2EBFA;\n",
              "      box-shadow: 0px 1px 2px rgba(60, 64, 67, 0.3), 0px 1px 3px 1px rgba(60, 64, 67, 0.15);\n",
              "      fill: #174EA6;\n",
              "    }\n",
              "\n",
              "    [theme=dark] .colab-df-convert {\n",
              "      background-color: #3B4455;\n",
              "      fill: #D2E3FC;\n",
              "    }\n",
              "\n",
              "    [theme=dark] .colab-df-convert:hover {\n",
              "      background-color: #434B5C;\n",
              "      box-shadow: 0px 1px 3px 1px rgba(0, 0, 0, 0.15);\n",
              "      filter: drop-shadow(0px 1px 2px rgba(0, 0, 0, 0.3));\n",
              "      fill: #FFFFFF;\n",
              "    }\n",
              "  </style>\n",
              "\n",
              "      <script>\n",
              "        const buttonEl =\n",
              "          document.querySelector('#df-74412188-5753-4895-88ab-6af57364f101 button.colab-df-convert');\n",
              "        buttonEl.style.display =\n",
              "          google.colab.kernel.accessAllowed ? 'block' : 'none';\n",
              "\n",
              "        async function convertToInteractive(key) {\n",
              "          const element = document.querySelector('#df-74412188-5753-4895-88ab-6af57364f101');\n",
              "          const dataTable =\n",
              "            await google.colab.kernel.invokeFunction('convertToInteractive',\n",
              "                                                     [key], {});\n",
              "          if (!dataTable) return;\n",
              "\n",
              "          const docLinkHtml = 'Like what you see? Visit the ' +\n",
              "            '<a target=\"_blank\" href=https://colab.research.google.com/notebooks/data_table.ipynb>data table notebook</a>'\n",
              "            + ' to learn more about interactive tables.';\n",
              "          element.innerHTML = '';\n",
              "          dataTable['output_type'] = 'display_data';\n",
              "          await google.colab.output.renderOutput(dataTable, element);\n",
              "          const docLink = document.createElement('div');\n",
              "          docLink.innerHTML = docLinkHtml;\n",
              "          element.appendChild(docLink);\n",
              "        }\n",
              "      </script>\n",
              "    </div>\n",
              "  </div>\n",
              "  "
            ]
          },
          "metadata": {},
          "execution_count": 49
        }
      ],
      "source": [
        "kaggle.sample(1)"
      ]
    },
    {
      "cell_type": "markdown",
      "source": [
        "**Predição**"
      ],
      "metadata": {
        "id": "PubC4fIceBvw"
      }
    },
    {
      "cell_type": "code",
      "execution_count": null,
      "metadata": {
        "colab": {
          "base_uri": "https://localhost:8080/"
        },
        "id": "0PMuZzwc79ru",
        "outputId": "c6ee8261-ebed-475a-aba8-510a457e0702"
      },
      "outputs": [
        {
          "output_type": "stream",
          "name": "stdout",
          "text": [
            "(array([0, 1]), array([69757, 33379]))\n"
          ]
        }
      ],
      "source": [
        "# Random Forest\n",
        "y_pred_kaggle3 = classifier_rf.predict(kaggle)\n",
        "\n",
        "# numero de previções para cada classe\n",
        "print(np.unique(y_pred_kaggle3, return_counts=True))"
      ]
    },
    {
      "cell_type": "code",
      "execution_count": null,
      "metadata": {
        "id": "i2OBbrcv8j0H"
      },
      "outputs": [],
      "source": [
        "# Junto os Ids com as predicoes e salvo em csv\n",
        "resultado = pd.Series(y_pred_kaggle3,index = identificador,name = 'Predicted')\n",
        "\n",
        "df_final =pd.DataFrame(resultado,columns=['Predicted'])\n",
        "df_final.reset_index(inplace=True, drop=False)\n",
        "\n",
        "df_final.to_csv('submissionRTnew8.csv' ,index=False)"
      ]
    },
    {
      "cell_type": "code",
      "execution_count": null,
      "metadata": {
        "colab": {
          "base_uri": "https://localhost:8080/"
        },
        "id": "srcjzvciIC_Q",
        "outputId": "64280670-e236-430b-f3e1-9518e7d0a150"
      },
      "outputs": [
        {
          "output_type": "execute_result",
          "data": {
            "text/plain": [
              "0    72285\n",
              "1    30851\n",
              "Name: Predicted, dtype: int64"
            ]
          },
          "metadata": {},
          "execution_count": 56
        }
      ],
      "source": [
        "df_final['Predicted'].value_counts()"
      ]
    }
  ],
  "metadata": {
    "colab": {
      "collapsed_sections": [
        "hgLF6VloFQFn",
        "vTYcAgG_RJvU",
        "amNkvpqCXO4V",
        "InMpni3-vof2",
        "ULU308GiT264",
        "Hlb143ZaaRWR",
        "MK69W33VvvJ5",
        "Tuw2GY5xQFwW",
        "42CCjZiPvDZo",
        "wY8QkJO1u5DZ"
      ],
      "provenance": []
    },
    "kernelspec": {
      "display_name": "Python 3",
      "name": "python3"
    },
    "language_info": {
      "name": "python"
    },
    "widgets": {
      "application/vnd.jupyter.widget-state+json": {
        "44bfbbe9fbd045f099a425970b83dd81": {
          "model_module": "@jupyter-widgets/output",
          "model_module_version": "1.0.0",
          "model_name": "OutputModel",
          "state": {
            "_dom_classes": [],
            "_model_module": "@jupyter-widgets/output",
            "_model_module_version": "1.0.0",
            "_model_name": "OutputModel",
            "_view_count": null,
            "_view_module": "@jupyter-widgets/output",
            "_view_module_version": "1.0.0",
            "_view_name": "OutputView",
            "layout": "IPY_MODEL_60275fd749c74763a9128f0aa337453d",
            "msg_id": "",
            "outputs": [
              {
                "data": {
                  "image/png": "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\n",
                  "text/plain": "<Figure size 800x500 with 1 Axes>"
                },
                "metadata": {},
                "output_type": "display_data"
              }
            ]
          }
        },
        "44ea02703e8841e889a149c80bd94670": {
          "model_module": "@jupyter-widgets/base",
          "model_module_version": "1.2.0",
          "model_name": "LayoutModel",
          "state": {
            "_model_module": "@jupyter-widgets/base",
            "_model_module_version": "1.2.0",
            "_model_name": "LayoutModel",
            "_view_count": null,
            "_view_module": "@jupyter-widgets/base",
            "_view_module_version": "1.2.0",
            "_view_name": "LayoutView",
            "align_content": null,
            "align_items": null,
            "align_self": null,
            "border": null,
            "bottom": null,
            "display": null,
            "flex": null,
            "flex_flow": null,
            "grid_area": null,
            "grid_auto_columns": null,
            "grid_auto_flow": null,
            "grid_auto_rows": null,
            "grid_column": null,
            "grid_gap": null,
            "grid_row": null,
            "grid_template_areas": null,
            "grid_template_columns": null,
            "grid_template_rows": null,
            "height": null,
            "justify_content": null,
            "justify_items": null,
            "left": null,
            "margin": null,
            "max_height": null,
            "max_width": null,
            "min_height": null,
            "min_width": null,
            "object_fit": null,
            "object_position": null,
            "order": null,
            "overflow": null,
            "overflow_x": null,
            "overflow_y": null,
            "padding": null,
            "right": null,
            "top": null,
            "visibility": null,
            "width": null
          }
        },
        "60275fd749c74763a9128f0aa337453d": {
          "model_module": "@jupyter-widgets/base",
          "model_module_version": "1.2.0",
          "model_name": "LayoutModel",
          "state": {
            "_model_module": "@jupyter-widgets/base",
            "_model_module_version": "1.2.0",
            "_model_name": "LayoutModel",
            "_view_count": null,
            "_view_module": "@jupyter-widgets/base",
            "_view_module_version": "1.2.0",
            "_view_name": "LayoutView",
            "align_content": null,
            "align_items": null,
            "align_self": null,
            "border": null,
            "bottom": null,
            "display": null,
            "flex": null,
            "flex_flow": null,
            "grid_area": null,
            "grid_auto_columns": null,
            "grid_auto_flow": null,
            "grid_auto_rows": null,
            "grid_column": null,
            "grid_gap": null,
            "grid_row": null,
            "grid_template_areas": null,
            "grid_template_columns": null,
            "grid_template_rows": null,
            "height": null,
            "justify_content": null,
            "justify_items": null,
            "left": null,
            "margin": null,
            "max_height": null,
            "max_width": null,
            "min_height": null,
            "min_width": null,
            "object_fit": null,
            "object_position": null,
            "order": null,
            "overflow": null,
            "overflow_x": null,
            "overflow_y": null,
            "padding": null,
            "right": null,
            "top": null,
            "visibility": null,
            "width": null
          }
        },
        "b87e65ea4db74747ae3b51226775172e": {
          "model_module": "@jupyter-widgets/controls",
          "model_module_version": "1.5.0",
          "model_name": "VBoxModel",
          "state": {
            "_dom_classes": [
              "widget-interact"
            ],
            "_model_module": "@jupyter-widgets/controls",
            "_model_module_version": "1.5.0",
            "_model_name": "VBoxModel",
            "_view_count": null,
            "_view_module": "@jupyter-widgets/controls",
            "_view_module_version": "1.5.0",
            "_view_name": "VBoxView",
            "box_style": "",
            "children": [
              "IPY_MODEL_be9c10e5c6804092ba3e0bb1919abe8a",
              "IPY_MODEL_44bfbbe9fbd045f099a425970b83dd81"
            ],
            "layout": "IPY_MODEL_b8b63d61754a4cad96cf849dbf2dd0a1"
          }
        },
        "b8b63d61754a4cad96cf849dbf2dd0a1": {
          "model_module": "@jupyter-widgets/base",
          "model_module_version": "1.2.0",
          "model_name": "LayoutModel",
          "state": {
            "_model_module": "@jupyter-widgets/base",
            "_model_module_version": "1.2.0",
            "_model_name": "LayoutModel",
            "_view_count": null,
            "_view_module": "@jupyter-widgets/base",
            "_view_module_version": "1.2.0",
            "_view_name": "LayoutView",
            "align_content": null,
            "align_items": null,
            "align_self": null,
            "border": null,
            "bottom": null,
            "display": null,
            "flex": null,
            "flex_flow": null,
            "grid_area": null,
            "grid_auto_columns": null,
            "grid_auto_flow": null,
            "grid_auto_rows": null,
            "grid_column": null,
            "grid_gap": null,
            "grid_row": null,
            "grid_template_areas": null,
            "grid_template_columns": null,
            "grid_template_rows": null,
            "height": null,
            "justify_content": null,
            "justify_items": null,
            "left": null,
            "margin": null,
            "max_height": null,
            "max_width": null,
            "min_height": null,
            "min_width": null,
            "object_fit": null,
            "object_position": null,
            "order": null,
            "overflow": null,
            "overflow_x": null,
            "overflow_y": null,
            "padding": null,
            "right": null,
            "top": null,
            "visibility": null,
            "width": null
          }
        },
        "bb5d3d16794041a4ac459a8c3254d544": {
          "model_module": "@jupyter-widgets/controls",
          "model_module_version": "1.5.0",
          "model_name": "ToggleButtonsStyleModel",
          "state": {
            "_model_module": "@jupyter-widgets/controls",
            "_model_module_version": "1.5.0",
            "_model_name": "ToggleButtonsStyleModel",
            "_view_count": null,
            "_view_module": "@jupyter-widgets/base",
            "_view_module_version": "1.2.0",
            "_view_name": "StyleView",
            "button_width": "",
            "description_width": "",
            "font_weight": ""
          }
        },
        "be9c10e5c6804092ba3e0bb1919abe8a": {
          "model_module": "@jupyter-widgets/controls",
          "model_module_version": "1.5.0",
          "model_name": "ToggleButtonsModel",
          "state": {
            "_dom_classes": [],
            "_model_module": "@jupyter-widgets/controls",
            "_model_module_version": "1.5.0",
            "_model_name": "ToggleButtonsModel",
            "_options_labels": [
              "Hyperparameters",
              "AUC",
              "Confusion Matrix",
              "Threshold",
              "Precision Recall",
              "Prediction Error",
              "Class Report",
              "Feature Selection",
              "Learning Curve",
              "Manifold Learning",
              "Calibration Curve",
              "Validation Curve",
              "Dimensions",
              "Feature Importance",
              "Feature Importance (All)",
              "Decision Boundary",
              "Lift Chart",
              "Gain Chart",
              "Decision Tree",
              "KS Statistic Plot"
            ],
            "_view_count": null,
            "_view_module": "@jupyter-widgets/controls",
            "_view_module_version": "1.5.0",
            "_view_name": "ToggleButtonsView",
            "button_style": "",
            "description": "Plot Type:",
            "description_tooltip": null,
            "disabled": false,
            "icons": [
              ""
            ],
            "index": 14,
            "layout": "IPY_MODEL_44ea02703e8841e889a149c80bd94670",
            "style": "IPY_MODEL_bb5d3d16794041a4ac459a8c3254d544",
            "tooltips": []
          }
        }
      }
    },
    "accelerator": "GPU"
  },
  "nbformat": 4,
  "nbformat_minor": 0
}